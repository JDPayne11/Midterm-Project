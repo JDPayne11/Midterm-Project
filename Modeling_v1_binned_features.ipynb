{
 "cells": [
  {
   "cell_type": "markdown",
   "id": "67879722",
   "metadata": {},
   "source": [
    "### Modeling with Binned Features\n",
    "This notebook takes a look at how our model performs when the categorical variables (carriers, branded code share, and airport IDs) are binned."
   ]
  },
  {
   "cell_type": "code",
   "execution_count": 65,
   "id": "ad02566d",
   "metadata": {},
   "outputs": [],
   "source": [
    "import numpy as np\n",
    "import pandas as pd\n",
    "import matplotlib.pyplot as plt\n",
    "import seaborn as sns\n",
    "\n",
    "from sklearn.preprocessing import StandardScaler\n",
    "from sklearn.model_selection import train_test_split\n",
    "from sklearn.linear_model import LinearRegression\n",
    "# from sklearn.linear_model import LogisticRegression\n",
    "from sklearn.ensemble import RandomForestRegressor\n",
    "from sklearn.naive_bayes import GaussianNB\n",
    "from sklearn import svm\n",
    "from sklearn import metrics\n",
    "from sklearn.metrics import (log_loss,\n",
    "                            roc_auc_score, \n",
    "                            recall_score, \n",
    "                            precision_score, \n",
    "                            average_precision_score, \n",
    "                            f1_score, classification_report, \n",
    "                            accuracy_score, plot_roc_curve, \n",
    "                            plot_precision_recall_curve, \n",
    "                            plot_confusion_matrix\n",
    "                        )"
   ]
  },
  {
   "cell_type": "code",
   "execution_count": 2,
   "id": "daa1f671",
   "metadata": {},
   "outputs": [],
   "source": [
    "binned_flights = pd.read_csv(\"Features_with_binning.csv\")"
   ]
  },
  {
   "cell_type": "code",
   "execution_count": 3,
   "id": "93884400",
   "metadata": {},
   "outputs": [],
   "source": [
    "binned_flights.drop([\"Unnamed: 0\", \"fl_date\"], axis=1, inplace=True)"
   ]
  },
  {
   "cell_type": "code",
   "execution_count": 4,
   "id": "9e47eb42",
   "metadata": {
    "scrolled": true
   },
   "outputs": [
    {
     "data": {
      "text/html": [
       "<div>\n",
       "<style scoped>\n",
       "    .dataframe tbody tr th:only-of-type {\n",
       "        vertical-align: middle;\n",
       "    }\n",
       "\n",
       "    .dataframe tbody tr th {\n",
       "        vertical-align: top;\n",
       "    }\n",
       "\n",
       "    .dataframe thead th {\n",
       "        text-align: right;\n",
       "    }\n",
       "</style>\n",
       "<table border=\"1\" class=\"dataframe\">\n",
       "  <thead>\n",
       "    <tr style=\"text-align: right;\">\n",
       "      <th></th>\n",
       "      <th>crs_dep_time</th>\n",
       "      <th>dep_time</th>\n",
       "      <th>dep_delay</th>\n",
       "      <th>taxi_out</th>\n",
       "      <th>wheels_off</th>\n",
       "      <th>wheels_on</th>\n",
       "      <th>taxi_in</th>\n",
       "      <th>crs_arr_time</th>\n",
       "      <th>arr_time</th>\n",
       "      <th>arr_delay</th>\n",
       "      <th>...</th>\n",
       "      <th>origin_airport_id_9000 to 12000 departures</th>\n",
       "      <th>origin_airport_id_More than 12000 departures</th>\n",
       "      <th>dest_airport_id_0 to 4000 arrivals</th>\n",
       "      <th>dest_airport_id_4000 to 9000 arrivals</th>\n",
       "      <th>dest_airport_id_9000 to 12000 arrivals</th>\n",
       "      <th>dest_airport_id_More than 12000 arrivals</th>\n",
       "      <th>Weather_Cloudy</th>\n",
       "      <th>Weather_Rainy</th>\n",
       "      <th>Weather_Snowy</th>\n",
       "      <th>Weather_Sunny</th>\n",
       "    </tr>\n",
       "  </thead>\n",
       "  <tbody>\n",
       "    <tr>\n",
       "      <th>0</th>\n",
       "      <td>1229</td>\n",
       "      <td>1337.0</td>\n",
       "      <td>68.0</td>\n",
       "      <td>12.0</td>\n",
       "      <td>1349.0</td>\n",
       "      <td>1452.0</td>\n",
       "      <td>9.0</td>\n",
       "      <td>1355</td>\n",
       "      <td>1501.0</td>\n",
       "      <td>66.0</td>\n",
       "      <td>...</td>\n",
       "      <td>0</td>\n",
       "      <td>0</td>\n",
       "      <td>0</td>\n",
       "      <td>0</td>\n",
       "      <td>0</td>\n",
       "      <td>1</td>\n",
       "      <td>0</td>\n",
       "      <td>1</td>\n",
       "      <td>0</td>\n",
       "      <td>0</td>\n",
       "    </tr>\n",
       "    <tr>\n",
       "      <th>1</th>\n",
       "      <td>1945</td>\n",
       "      <td>1941.0</td>\n",
       "      <td>-4.0</td>\n",
       "      <td>15.0</td>\n",
       "      <td>1956.0</td>\n",
       "      <td>2209.0</td>\n",
       "      <td>6.0</td>\n",
       "      <td>2244</td>\n",
       "      <td>2215.0</td>\n",
       "      <td>-29.0</td>\n",
       "      <td>...</td>\n",
       "      <td>1</td>\n",
       "      <td>0</td>\n",
       "      <td>0</td>\n",
       "      <td>0</td>\n",
       "      <td>1</td>\n",
       "      <td>0</td>\n",
       "      <td>1</td>\n",
       "      <td>0</td>\n",
       "      <td>0</td>\n",
       "      <td>0</td>\n",
       "    </tr>\n",
       "    <tr>\n",
       "      <th>2</th>\n",
       "      <td>1110</td>\n",
       "      <td>1107.0</td>\n",
       "      <td>-3.0</td>\n",
       "      <td>32.0</td>\n",
       "      <td>1139.0</td>\n",
       "      <td>1844.0</td>\n",
       "      <td>12.0</td>\n",
       "      <td>1855</td>\n",
       "      <td>1856.0</td>\n",
       "      <td>1.0</td>\n",
       "      <td>...</td>\n",
       "      <td>1</td>\n",
       "      <td>0</td>\n",
       "      <td>0</td>\n",
       "      <td>0</td>\n",
       "      <td>1</td>\n",
       "      <td>0</td>\n",
       "      <td>0</td>\n",
       "      <td>0</td>\n",
       "      <td>0</td>\n",
       "      <td>1</td>\n",
       "    </tr>\n",
       "    <tr>\n",
       "      <th>3</th>\n",
       "      <td>1739</td>\n",
       "      <td>1736.0</td>\n",
       "      <td>-3.0</td>\n",
       "      <td>11.0</td>\n",
       "      <td>1747.0</td>\n",
       "      <td>1911.0</td>\n",
       "      <td>4.0</td>\n",
       "      <td>1930</td>\n",
       "      <td>1915.0</td>\n",
       "      <td>-15.0</td>\n",
       "      <td>...</td>\n",
       "      <td>0</td>\n",
       "      <td>1</td>\n",
       "      <td>0</td>\n",
       "      <td>1</td>\n",
       "      <td>0</td>\n",
       "      <td>0</td>\n",
       "      <td>0</td>\n",
       "      <td>1</td>\n",
       "      <td>0</td>\n",
       "      <td>0</td>\n",
       "    </tr>\n",
       "    <tr>\n",
       "      <th>4</th>\n",
       "      <td>930</td>\n",
       "      <td>926.0</td>\n",
       "      <td>-4.0</td>\n",
       "      <td>12.0</td>\n",
       "      <td>938.0</td>\n",
       "      <td>1607.0</td>\n",
       "      <td>7.0</td>\n",
       "      <td>1649</td>\n",
       "      <td>1614.0</td>\n",
       "      <td>-35.0</td>\n",
       "      <td>...</td>\n",
       "      <td>0</td>\n",
       "      <td>1</td>\n",
       "      <td>0</td>\n",
       "      <td>0</td>\n",
       "      <td>0</td>\n",
       "      <td>1</td>\n",
       "      <td>0</td>\n",
       "      <td>1</td>\n",
       "      <td>0</td>\n",
       "      <td>0</td>\n",
       "    </tr>\n",
       "  </tbody>\n",
       "</table>\n",
       "<p>5 rows × 118 columns</p>\n",
       "</div>"
      ],
      "text/plain": [
       "   crs_dep_time  dep_time  dep_delay  taxi_out  wheels_off  wheels_on  \\\n",
       "0          1229    1337.0       68.0      12.0      1349.0     1452.0   \n",
       "1          1945    1941.0       -4.0      15.0      1956.0     2209.0   \n",
       "2          1110    1107.0       -3.0      32.0      1139.0     1844.0   \n",
       "3          1739    1736.0       -3.0      11.0      1747.0     1911.0   \n",
       "4           930     926.0       -4.0      12.0       938.0     1607.0   \n",
       "\n",
       "   taxi_in  crs_arr_time  arr_time  arr_delay  ...  \\\n",
       "0      9.0          1355    1501.0       66.0  ...   \n",
       "1      6.0          2244    2215.0      -29.0  ...   \n",
       "2     12.0          1855    1856.0        1.0  ...   \n",
       "3      4.0          1930    1915.0      -15.0  ...   \n",
       "4      7.0          1649    1614.0      -35.0  ...   \n",
       "\n",
       "   origin_airport_id_9000 to 12000 departures  \\\n",
       "0                                           0   \n",
       "1                                           1   \n",
       "2                                           1   \n",
       "3                                           0   \n",
       "4                                           0   \n",
       "\n",
       "   origin_airport_id_More than 12000 departures  \\\n",
       "0                                             0   \n",
       "1                                             0   \n",
       "2                                             0   \n",
       "3                                             1   \n",
       "4                                             1   \n",
       "\n",
       "   dest_airport_id_0 to 4000 arrivals  dest_airport_id_4000 to 9000 arrivals  \\\n",
       "0                                   0                                      0   \n",
       "1                                   0                                      0   \n",
       "2                                   0                                      0   \n",
       "3                                   0                                      1   \n",
       "4                                   0                                      0   \n",
       "\n",
       "   dest_airport_id_9000 to 12000 arrivals  \\\n",
       "0                                       0   \n",
       "1                                       1   \n",
       "2                                       1   \n",
       "3                                       0   \n",
       "4                                       0   \n",
       "\n",
       "  dest_airport_id_More than 12000 arrivals  Weather_Cloudy  Weather_Rainy  \\\n",
       "0                                        1               0              1   \n",
       "1                                        0               1              0   \n",
       "2                                        0               0              0   \n",
       "3                                        0               0              1   \n",
       "4                                        1               0              1   \n",
       "\n",
       "   Weather_Snowy  Weather_Sunny  \n",
       "0              0              0  \n",
       "1              0              0  \n",
       "2              0              1  \n",
       "3              0              0  \n",
       "4              0              0  \n",
       "\n",
       "[5 rows x 118 columns]"
      ]
     },
     "execution_count": 4,
     "metadata": {},
     "output_type": "execute_result"
    }
   ],
   "source": [
    "# check\n",
    "binned_flights.head()"
   ]
  },
  {
   "cell_type": "code",
   "execution_count": 5,
   "id": "7fee1eb4",
   "metadata": {},
   "outputs": [],
   "source": [
    "# binned_flights.columns.tolist()"
   ]
  },
  {
   "cell_type": "code",
   "execution_count": 6,
   "id": "41ee0dc8",
   "metadata": {},
   "outputs": [],
   "source": [
    "# dropping weather because it was turned into dummy variables\n",
    "binned_flights.drop(\"Weather\", axis=1, inplace=True)"
   ]
  },
  {
   "cell_type": "code",
   "execution_count": 7,
   "id": "839a01e6",
   "metadata": {},
   "outputs": [],
   "source": [
    "numeric = ['crs_dep_time',\n",
    "         'dep_time',\n",
    "         'dep_delay',\n",
    "         'taxi_out',\n",
    "         'wheels_off',\n",
    "         'wheels_on',\n",
    "         'taxi_in',\n",
    "         'crs_arr_time',\n",
    "         'arr_time',\n",
    "         'arr_delay',\n",
    "         'crs_elapsed_time',\n",
    "         'actual_elapsed_time',\n",
    "         'air_time',\n",
    "         'distance']\n",
    "\n",
    "categoric = list(set(binned_flights.columns) - set(numeric) - {'arr_delay'})"
   ]
  },
  {
   "cell_type": "markdown",
   "id": "ec3f67bf",
   "metadata": {},
   "source": [
    "First, let's look at the correlation between the different variables, then at the most correlated features with arr_delay where the correlation is more than 0.5."
   ]
  },
  {
   "cell_type": "code",
   "execution_count": 8,
   "id": "9ffbef01",
   "metadata": {},
   "outputs": [
    {
     "data": {
      "image/png": "[encoded data removed]",
      "text/plain": [
       "<Figure size 864x648 with 2 Axes>"
      ]
     },
     "metadata": {
      "needs_background": "light"
     },
     "output_type": "display_data"
    }
   ],
   "source": [
    "corrmat = binned_flights[numeric].corr()\n",
    "f, ax = plt.subplots(figsize=(12, 9))\n",
    "sns.heatmap(corrmat, vmax=.8, square=True,cmap=\"RdYlGn_r\")\n",
    "\n",
    "plt.show()"
   ]
  },
  {
   "cell_type": "code",
   "execution_count": 9,
   "id": "df976fd5",
   "metadata": {},
   "outputs": [
    {
     "data": {
      "image/png": "[encoded data removed]",
      "text/plain": [
       "<Figure size 864x648 with 2 Axes>"
      ]
     },
     "metadata": {
      "needs_background": "light"
     },
     "output_type": "display_data"
    }
   ],
   "source": [
    "corrmat = binned_flights[numeric].corr()\n",
    "\n",
    "high_corr = corrmat.index[abs(corrmat['arr_delay'])>0.5]\n",
    "plt.figure(figsize=(12,9))\n",
    "sns.heatmap(corrmat[high_corr], annot=True, cmap='RdYlGn_r')\n",
    "\n",
    "plt.show()"
   ]
  },
  {
   "cell_type": "markdown",
   "id": "ed45d446",
   "metadata": {},
   "source": [
    "Departure delay is a strong predictor of arrival delay due to the high correlation. We will remove departure delay."
   ]
  },
  {
   "cell_type": "code",
   "execution_count": 10,
   "id": "aae5a8a7",
   "metadata": {},
   "outputs": [],
   "source": [
    "# drop dep_delay\n",
    "binned_flights.drop(\"dep_delay\", axis=1, inplace=True)"
   ]
  },
  {
   "cell_type": "code",
   "execution_count": 11,
   "id": "40e56d9c",
   "metadata": {},
   "outputs": [
    {
     "data": {
      "text/plain": [
       "['crs_dep_time',\n",
       " 'dep_time',\n",
       " 'taxi_out',\n",
       " 'wheels_off',\n",
       " 'wheels_on',\n",
       " 'taxi_in',\n",
       " 'crs_arr_time',\n",
       " 'arr_time',\n",
       " 'crs_elapsed_time',\n",
       " 'actual_elapsed_time',\n",
       " 'air_time',\n",
       " 'distance']"
      ]
     },
     "execution_count": 11,
     "metadata": {},
     "output_type": "execute_result"
    }
   ],
   "source": [
    "# updating numeric list to exclude arr_delay and dep_delay\n",
    "numeric = [item for item in numeric if item not in ('arr_delay', 'dep_delay')]\n",
    "\n",
    "numeric"
   ]
  },
  {
   "cell_type": "markdown",
   "id": "5af39ed2",
   "metadata": {},
   "source": [
    "# Modeling"
   ]
  },
  {
   "cell_type": "code",
   "execution_count": 12,
   "id": "2e9f66f6",
   "metadata": {},
   "outputs": [],
   "source": [
    "# separate target and predictors\n",
    "y = binned_flights['arr_delay']\n",
    "X = binned_flights.drop('arr_delay', axis=1)"
   ]
  },
  {
   "cell_type": "code",
   "execution_count": 13,
   "id": "d52ea27c",
   "metadata": {},
   "outputs": [],
   "source": [
    "seed = 100\n",
    "\n",
    "X_train, X_test, y_train, y_test = train_test_split(X, y, test_size=0.3, random_state=seed)"
   ]
  },
  {
   "cell_type": "code",
   "execution_count": 30,
   "id": "27b8fe3a",
   "metadata": {},
   "outputs": [],
   "source": [
    "def scale_features(X_train, X_test, numeric_cols, cat_cols, scaler):\n",
    "    '''returns X_train and X_test array where the numerical columns are scaled, \n",
    "    then combines it with the categorical array'''\n",
    "    scaler = scaler.fit(X_train[numeric_cols])\n",
    "    \n",
    "    X_train_scaled = scaler.transform(X_train[numeric_cols])\n",
    "    X_test_scaled = scaler.transform(X_test[numeric_cols])\n",
    "    \n",
    "    # combine with categorical columns\n",
    "    X_train_scaled_comb = np.hstack((X_train_scaled, X_train[cat_cols]))\n",
    "    X_test_scaled_comb = np.hstack((X_test_scaled, X_test[cat_cols]))\n",
    "    \n",
    "    return X_train_scaled_comb, X_test_scaled_comb"
   ]
  },
  {
   "cell_type": "code",
   "execution_count": 36,
   "id": "aa7d6f9e",
   "metadata": {},
   "outputs": [],
   "source": [
    "scaler = StandardScaler()\n",
    "\n",
    "X_train_scaled, X_test_scaled = scale_features(X_train, X_test, numeric, categoric, scaler)"
   ]
  },
  {
   "cell_type": "markdown",
   "id": "0d550d55",
   "metadata": {},
   "source": [
    "#### Linear Regression"
   ]
  },
  {
   "cell_type": "code",
   "execution_count": 44,
   "id": "a731935f",
   "metadata": {},
   "outputs": [],
   "source": [
    "def regression_metrics(y_true, yhat):\n",
    "    '''return R^2, MSE, MAE, and RMSE metrics'''\n",
    "    \n",
    "    print(f'R^2: {metrics.r2_score(y_true, yhat)}')\n",
    "    print(f'Mean Squared Error: {metrics.mean_squared_error(y_true, yhat)}')\n",
    "    print(f'Mean Absolute Error: {metrics.mean_absolute_error(y_true, yhat)}')\n",
    "    print(f'Root MSE: {metrics.mean_squared_error(y_true, yhat, squared=False)}')"
   ]
  },
  {
   "cell_type": "code",
   "execution_count": 37,
   "id": "ea7becb5",
   "metadata": {},
   "outputs": [],
   "source": [
    "line_reg = LinearRegression()\n",
    "\n",
    "line_reg.fit(X_train_scaled, y_train)\n",
    "\n",
    "yhat_line = line_reg.predict(X_test_scaled)"
   ]
  },
  {
   "cell_type": "code",
   "execution_count": 50,
   "id": "807ec168",
   "metadata": {
    "scrolled": false
   },
   "outputs": [
    {
     "name": "stdout",
     "output_type": "stream",
     "text": [
      "R^2: 0.1961162948920736\n",
      "Mean Squared Error: 1612.979671174722\n",
      "Mean Absolute Error: 17.720410060397278\n",
      "Root MSE: 40.16191817100774\n"
     ]
    }
   ],
   "source": [
    "regression_metrics(y_test, yhat_line)"
   ]
  },
  {
   "cell_type": "markdown",
   "id": "d7a27a20",
   "metadata": {},
   "source": [
    "#### Random Forest"
   ]
  },
  {
   "cell_type": "code",
   "execution_count": 42,
   "id": "cd72eb3d",
   "metadata": {},
   "outputs": [],
   "source": [
    "rfc = RandomForestRegressor(n_estimators=10, max_depth=8, random_state=seed)\n",
    "\n",
    "rfc.fit(X_train_scaled, y_train)\n",
    "\n",
    "yhat_rfc = rfc.predict(X_test_scaled)"
   ]
  },
  {
   "cell_type": "code",
   "execution_count": 51,
   "id": "5b442590",
   "metadata": {
    "scrolled": true
   },
   "outputs": [
    {
     "name": "stdout",
     "output_type": "stream",
     "text": [
      "R^2: 0.6262132494705532\n",
      "Mean Squared Error: 749.9970780941634\n",
      "Mean Absolute Error: 16.373658992033675\n",
      "Root MSE: 27.386074528748427\n"
     ]
    }
   ],
   "source": [
    "regression_metrics(y_test, yhat_rfc)"
   ]
  },
  {
   "cell_type": "markdown",
   "id": "6eb097d5",
   "metadata": {},
   "source": [
    "#### Naive Bayes"
   ]
  },
  {
   "cell_type": "code",
   "execution_count": 54,
   "id": "9acd0969",
   "metadata": {},
   "outputs": [],
   "source": [
    "gauss = GaussianNB()\n",
    "\n",
    "gauss.fit(X_train_scaled, y_train) \n",
    "\n",
    "yhat_nb = gauss.predict(X_test_scaled)"
   ]
  },
  {
   "cell_type": "code",
   "execution_count": 69,
   "id": "f7d692e5",
   "metadata": {},
   "outputs": [
    {
     "name": "stdout",
     "output_type": "stream",
     "text": [
      "R^2: -72.21370952636099\n",
      "Mean Squared Error: 146902.12572657724\n",
      "Mean Absolute Error: 357.8288862745644\n",
      "Root MSE: 383.2781310309489\n"
     ]
    }
   ],
   "source": [
    "regression_metrics(y_test, yhat_nb)"
   ]
  },
  {
   "cell_type": "markdown",
   "id": "c491a846",
   "metadata": {},
   "source": []
  }
 ],
 "metadata": {
  "kernelspec": {
   "display_name": "test_env",
   "language": "python",
   "name": "test_env"
  },
  "language_info": {
   "codemirror_mode": {
    "name": "ipython",
    "version": 3
   },
   "file_extension": ".py",
   "mimetype": "text/x-python",
   "name": "python",
   "nbconvert_exporter": "python",
   "pygments_lexer": "ipython3",
   "version": "3.9.12"
  }
 },
 "nbformat": 4,
 "nbformat_minor": 5
}
