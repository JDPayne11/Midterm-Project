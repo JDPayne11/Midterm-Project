{
 "cells": [
  {
   "cell_type": "markdown",
   "id": "8e434e7f",
   "metadata": {},
   "source": [
    "# Passengers"
   ]
  },
  {
   "cell_type": "markdown",
   "id": "9498c6c3",
   "metadata": {},
   "source": [
    "The exploration uses information ranging from Dec 1, 2018 to Apr 1, 2019."
   ]
  },
  {
   "cell_type": "code",
   "execution_count": 1,
   "id": "b27d81f7",
   "metadata": {},
   "outputs": [],
   "source": [
    "import pandas as pd\n",
    "import numpy as np\n",
    "import matplotlib.pyplot as plt\n",
    "import seaborn as sns"
   ]
  },
  {
   "cell_type": "code",
   "execution_count": 2,
   "id": "8c8b9bfe",
   "metadata": {},
   "outputs": [
    {
     "data": {
      "text/plain": [
       "(200360, 38)"
      ]
     },
     "execution_count": 2,
     "metadata": {},
     "output_type": "execute_result"
    }
   ],
   "source": [
    "orig_pass = pd.read_csv(\"./data/passenger_data.csv\")\n",
    "\n",
    "orig_pass.shape"
   ]
  },
  {
   "cell_type": "markdown",
   "id": "b38b9cd8",
   "metadata": {},
   "source": [
    "# Cleaning"
   ]
  },
  {
   "cell_type": "code",
   "execution_count": 3,
   "id": "1b0851e9",
   "metadata": {},
   "outputs": [
    {
     "data": {
      "text/html": [
       "<div>\n",
       "<style scoped>\n",
       "    .dataframe tbody tr th:only-of-type {\n",
       "        vertical-align: middle;\n",
       "    }\n",
       "\n",
       "    .dataframe tbody tr th {\n",
       "        vertical-align: top;\n",
       "    }\n",
       "\n",
       "    .dataframe thead th {\n",
       "        text-align: right;\n",
       "    }\n",
       "</style>\n",
       "<table border=\"1\" class=\"dataframe\">\n",
       "  <thead>\n",
       "    <tr style=\"text-align: right;\">\n",
       "      <th></th>\n",
       "      <th>departures_scheduled</th>\n",
       "      <th>departures_performed</th>\n",
       "      <th>payload</th>\n",
       "      <th>seats</th>\n",
       "      <th>passengers</th>\n",
       "      <th>freight</th>\n",
       "      <th>mail</th>\n",
       "      <th>distance</th>\n",
       "      <th>ramp_to_ramp</th>\n",
       "      <th>air_time</th>\n",
       "      <th>...</th>\n",
       "      <th>dest_country</th>\n",
       "      <th>dest_country_name</th>\n",
       "      <th>aircraft_group</th>\n",
       "      <th>aircraft_type</th>\n",
       "      <th>aircraft_config</th>\n",
       "      <th>year</th>\n",
       "      <th>month</th>\n",
       "      <th>distance_group</th>\n",
       "      <th>class</th>\n",
       "      <th>data_source</th>\n",
       "    </tr>\n",
       "  </thead>\n",
       "  <tbody>\n",
       "    <tr>\n",
       "      <th>0</th>\n",
       "      <td>0.0</td>\n",
       "      <td>70.0</td>\n",
       "      <td>84000.0</td>\n",
       "      <td>420.0</td>\n",
       "      <td>71.0</td>\n",
       "      <td>10461.0</td>\n",
       "      <td>0.0</td>\n",
       "      <td>7.0</td>\n",
       "      <td>919.0</td>\n",
       "      <td>505.0</td>\n",
       "      <td>...</td>\n",
       "      <td>US</td>\n",
       "      <td>United States</td>\n",
       "      <td>3</td>\n",
       "      <td>364</td>\n",
       "      <td>1</td>\n",
       "      <td>2019</td>\n",
       "      <td>4</td>\n",
       "      <td>1</td>\n",
       "      <td>F</td>\n",
       "      <td>DU</td>\n",
       "    </tr>\n",
       "    <tr>\n",
       "      <th>1</th>\n",
       "      <td>0.0</td>\n",
       "      <td>120.0</td>\n",
       "      <td>144000.0</td>\n",
       "      <td>720.0</td>\n",
       "      <td>102.0</td>\n",
       "      <td>5850.0</td>\n",
       "      <td>0.0</td>\n",
       "      <td>7.0</td>\n",
       "      <td>1070.0</td>\n",
       "      <td>853.0</td>\n",
       "      <td>...</td>\n",
       "      <td>US</td>\n",
       "      <td>United States</td>\n",
       "      <td>3</td>\n",
       "      <td>364</td>\n",
       "      <td>1</td>\n",
       "      <td>2019</td>\n",
       "      <td>4</td>\n",
       "      <td>1</td>\n",
       "      <td>L</td>\n",
       "      <td>DU</td>\n",
       "    </tr>\n",
       "    <tr>\n",
       "      <th>2</th>\n",
       "      <td>0.0</td>\n",
       "      <td>4.0</td>\n",
       "      <td>4800.0</td>\n",
       "      <td>24.0</td>\n",
       "      <td>0.0</td>\n",
       "      <td>167.0</td>\n",
       "      <td>0.0</td>\n",
       "      <td>51.0</td>\n",
       "      <td>150.0</td>\n",
       "      <td>121.0</td>\n",
       "      <td>...</td>\n",
       "      <td>US</td>\n",
       "      <td>United States</td>\n",
       "      <td>3</td>\n",
       "      <td>362</td>\n",
       "      <td>1</td>\n",
       "      <td>2019</td>\n",
       "      <td>4</td>\n",
       "      <td>1</td>\n",
       "      <td>L</td>\n",
       "      <td>DU</td>\n",
       "    </tr>\n",
       "    <tr>\n",
       "      <th>3</th>\n",
       "      <td>0.0</td>\n",
       "      <td>1.0</td>\n",
       "      <td>1200.0</td>\n",
       "      <td>6.0</td>\n",
       "      <td>3.0</td>\n",
       "      <td>60.0</td>\n",
       "      <td>0.0</td>\n",
       "      <td>0.0</td>\n",
       "      <td>36.0</td>\n",
       "      <td>31.0</td>\n",
       "      <td>...</td>\n",
       "      <td>US</td>\n",
       "      <td>United States</td>\n",
       "      <td>3</td>\n",
       "      <td>366</td>\n",
       "      <td>1</td>\n",
       "      <td>2019</td>\n",
       "      <td>4</td>\n",
       "      <td>1</td>\n",
       "      <td>L</td>\n",
       "      <td>DU</td>\n",
       "    </tr>\n",
       "    <tr>\n",
       "      <th>4</th>\n",
       "      <td>0.0</td>\n",
       "      <td>4.0</td>\n",
       "      <td>4800.0</td>\n",
       "      <td>24.0</td>\n",
       "      <td>10.0</td>\n",
       "      <td>700.0</td>\n",
       "      <td>0.0</td>\n",
       "      <td>0.0</td>\n",
       "      <td>114.0</td>\n",
       "      <td>98.0</td>\n",
       "      <td>...</td>\n",
       "      <td>US</td>\n",
       "      <td>United States</td>\n",
       "      <td>3</td>\n",
       "      <td>364</td>\n",
       "      <td>1</td>\n",
       "      <td>2019</td>\n",
       "      <td>4</td>\n",
       "      <td>1</td>\n",
       "      <td>L</td>\n",
       "      <td>DU</td>\n",
       "    </tr>\n",
       "  </tbody>\n",
       "</table>\n",
       "<p>5 rows × 38 columns</p>\n",
       "</div>"
      ],
      "text/plain": [
       "   departures_scheduled  departures_performed   payload  seats  passengers  \\\n",
       "0                   0.0                  70.0   84000.0  420.0        71.0   \n",
       "1                   0.0                 120.0  144000.0  720.0       102.0   \n",
       "2                   0.0                   4.0    4800.0   24.0         0.0   \n",
       "3                   0.0                   1.0    1200.0    6.0         3.0   \n",
       "4                   0.0                   4.0    4800.0   24.0        10.0   \n",
       "\n",
       "   freight  mail  distance  ramp_to_ramp  air_time  ... dest_country  \\\n",
       "0  10461.0   0.0       7.0         919.0     505.0  ...           US   \n",
       "1   5850.0   0.0       7.0        1070.0     853.0  ...           US   \n",
       "2    167.0   0.0      51.0         150.0     121.0  ...           US   \n",
       "3     60.0   0.0       0.0          36.0      31.0  ...           US   \n",
       "4    700.0   0.0       0.0         114.0      98.0  ...           US   \n",
       "\n",
       "   dest_country_name aircraft_group aircraft_type aircraft_config  year  \\\n",
       "0      United States              3           364               1  2019   \n",
       "1      United States              3           364               1  2019   \n",
       "2      United States              3           362               1  2019   \n",
       "3      United States              3           366               1  2019   \n",
       "4      United States              3           364               1  2019   \n",
       "\n",
       "   month  distance_group  class  data_source  \n",
       "0      4               1      F           DU  \n",
       "1      4               1      L           DU  \n",
       "2      4               1      L           DU  \n",
       "3      4               1      L           DU  \n",
       "4      4               1      L           DU  \n",
       "\n",
       "[5 rows x 38 columns]"
      ]
     },
     "execution_count": 3,
     "metadata": {},
     "output_type": "execute_result"
    }
   ],
   "source": [
    "orig_pass.head()"
   ]
  },
  {
   "cell_type": "code",
   "execution_count": 4,
   "id": "68c43d60",
   "metadata": {
    "scrolled": false
   },
   "outputs": [
    {
     "data": {
      "text/plain": [
       "departures_scheduled     float64\n",
       "departures_performed     float64\n",
       "payload                  float64\n",
       "seats                    float64\n",
       "passengers               float64\n",
       "freight                  float64\n",
       "mail                     float64\n",
       "distance                 float64\n",
       "ramp_to_ramp             float64\n",
       "air_time                 float64\n",
       "unique_carrier            object\n",
       "airline_id                 int64\n",
       "unique_carrier_name       object\n",
       "region                    object\n",
       "carrier                   object\n",
       "carrier_name              object\n",
       "carrier_group              int64\n",
       "carrier_group_new          int64\n",
       "origin_airport_id          int64\n",
       "origin_city_market_id      int64\n",
       "origin                    object\n",
       "origin_city_name          object\n",
       "origin_country            object\n",
       "origin_country_name       object\n",
       "dest_airport_id            int64\n",
       "dest_city_market_id        int64\n",
       "dest                      object\n",
       "dest_city_name            object\n",
       "dest_country              object\n",
       "dest_country_name         object\n",
       "aircraft_group             int64\n",
       "aircraft_type              int64\n",
       "aircraft_config            int64\n",
       "year                       int64\n",
       "month                      int64\n",
       "distance_group             int64\n",
       "class                     object\n",
       "data_source               object\n",
       "dtype: object"
      ]
     },
     "execution_count": 4,
     "metadata": {},
     "output_type": "execute_result"
    }
   ],
   "source": [
    "orig_pass.dtypes"
   ]
  },
  {
   "cell_type": "code",
   "execution_count": 5,
   "id": "eaf8952b",
   "metadata": {},
   "outputs": [],
   "source": [
    "orig_pass.drop(\"data_source\", axis=1, inplace=True)"
   ]
  },
  {
   "cell_type": "code",
   "execution_count": 6,
   "id": "88d2e582",
   "metadata": {},
   "outputs": [],
   "source": [
    "# change dtype of passengers, seats, and departures because people don't come in parts\n",
    "orig_pass = orig_pass.astype({\"departures_scheduled\": \"int64\",\n",
    "                 \"departures_performed\": \"int64\",\n",
    "                 \"seats\": \"int64\",\n",
    "                 \"passengers\": \"int64\"})"
   ]
  },
  {
   "cell_type": "code",
   "execution_count": 7,
   "id": "809b0be0",
   "metadata": {
    "scrolled": false
   },
   "outputs": [
    {
     "data": {
      "text/html": [
       "<div>\n",
       "<style scoped>\n",
       "    .dataframe tbody tr th:only-of-type {\n",
       "        vertical-align: middle;\n",
       "    }\n",
       "\n",
       "    .dataframe tbody tr th {\n",
       "        vertical-align: top;\n",
       "    }\n",
       "\n",
       "    .dataframe thead th {\n",
       "        text-align: right;\n",
       "    }\n",
       "</style>\n",
       "<table border=\"1\" class=\"dataframe\">\n",
       "  <thead>\n",
       "    <tr style=\"text-align: right;\">\n",
       "      <th></th>\n",
       "      <th>unique_carrier</th>\n",
       "      <th>carrier_name</th>\n",
       "      <th>unique_carrier_name</th>\n",
       "      <th>carrier</th>\n",
       "    </tr>\n",
       "  </thead>\n",
       "  <tbody>\n",
       "    <tr>\n",
       "      <th>0</th>\n",
       "      <td>3AQ</td>\n",
       "      <td>Maritime Helicopters, Inc.</td>\n",
       "      <td>Maritime Helicopters, Inc.</td>\n",
       "      <td>3AQ</td>\n",
       "    </tr>\n",
       "    <tr>\n",
       "      <th>1</th>\n",
       "      <td>3AQ</td>\n",
       "      <td>Maritime Helicopters, Inc.</td>\n",
       "      <td>Maritime Helicopters, Inc.</td>\n",
       "      <td>3AQ</td>\n",
       "    </tr>\n",
       "    <tr>\n",
       "      <th>2</th>\n",
       "      <td>3AQ</td>\n",
       "      <td>Maritime Helicopters, Inc.</td>\n",
       "      <td>Maritime Helicopters, Inc.</td>\n",
       "      <td>3AQ</td>\n",
       "    </tr>\n",
       "    <tr>\n",
       "      <th>3</th>\n",
       "      <td>3AQ</td>\n",
       "      <td>Maritime Helicopters, Inc.</td>\n",
       "      <td>Maritime Helicopters, Inc.</td>\n",
       "      <td>3AQ</td>\n",
       "    </tr>\n",
       "    <tr>\n",
       "      <th>4</th>\n",
       "      <td>3AQ</td>\n",
       "      <td>Maritime Helicopters, Inc.</td>\n",
       "      <td>Maritime Helicopters, Inc.</td>\n",
       "      <td>3AQ</td>\n",
       "    </tr>\n",
       "    <tr>\n",
       "      <th>...</th>\n",
       "      <td>...</td>\n",
       "      <td>...</td>\n",
       "      <td>...</td>\n",
       "      <td>...</td>\n",
       "    </tr>\n",
       "    <tr>\n",
       "      <th>200355</th>\n",
       "      <td>HA</td>\n",
       "      <td>Hawaiian Airlines Inc.</td>\n",
       "      <td>Hawaiian Airlines Inc.</td>\n",
       "      <td>HA</td>\n",
       "    </tr>\n",
       "    <tr>\n",
       "      <th>200356</th>\n",
       "      <td>HA</td>\n",
       "      <td>Hawaiian Airlines Inc.</td>\n",
       "      <td>Hawaiian Airlines Inc.</td>\n",
       "      <td>HA</td>\n",
       "    </tr>\n",
       "    <tr>\n",
       "      <th>200357</th>\n",
       "      <td>HA</td>\n",
       "      <td>Hawaiian Airlines Inc.</td>\n",
       "      <td>Hawaiian Airlines Inc.</td>\n",
       "      <td>HA</td>\n",
       "    </tr>\n",
       "    <tr>\n",
       "      <th>200358</th>\n",
       "      <td>1SQ</td>\n",
       "      <td>Star Marianas Air Inc.</td>\n",
       "      <td>Star Marianas Air Inc.</td>\n",
       "      <td>1SQ</td>\n",
       "    </tr>\n",
       "    <tr>\n",
       "      <th>200359</th>\n",
       "      <td>1SQ</td>\n",
       "      <td>Star Marianas Air Inc.</td>\n",
       "      <td>Star Marianas Air Inc.</td>\n",
       "      <td>1SQ</td>\n",
       "    </tr>\n",
       "  </tbody>\n",
       "</table>\n",
       "<p>200360 rows × 4 columns</p>\n",
       "</div>"
      ],
      "text/plain": [
       "       unique_carrier                carrier_name         unique_carrier_name  \\\n",
       "0                 3AQ  Maritime Helicopters, Inc.  Maritime Helicopters, Inc.   \n",
       "1                 3AQ  Maritime Helicopters, Inc.  Maritime Helicopters, Inc.   \n",
       "2                 3AQ  Maritime Helicopters, Inc.  Maritime Helicopters, Inc.   \n",
       "3                 3AQ  Maritime Helicopters, Inc.  Maritime Helicopters, Inc.   \n",
       "4                 3AQ  Maritime Helicopters, Inc.  Maritime Helicopters, Inc.   \n",
       "...               ...                         ...                         ...   \n",
       "200355             HA      Hawaiian Airlines Inc.      Hawaiian Airlines Inc.   \n",
       "200356             HA      Hawaiian Airlines Inc.      Hawaiian Airlines Inc.   \n",
       "200357             HA      Hawaiian Airlines Inc.      Hawaiian Airlines Inc.   \n",
       "200358            1SQ      Star Marianas Air Inc.      Star Marianas Air Inc.   \n",
       "200359            1SQ      Star Marianas Air Inc.      Star Marianas Air Inc.   \n",
       "\n",
       "       carrier  \n",
       "0          3AQ  \n",
       "1          3AQ  \n",
       "2          3AQ  \n",
       "3          3AQ  \n",
       "4          3AQ  \n",
       "...        ...  \n",
       "200355      HA  \n",
       "200356      HA  \n",
       "200357      HA  \n",
       "200358     1SQ  \n",
       "200359     1SQ  \n",
       "\n",
       "[200360 rows x 4 columns]"
      ]
     },
     "execution_count": 7,
     "metadata": {},
     "output_type": "execute_result"
    }
   ],
   "source": [
    "# contains similar info\n",
    "orig_pass[[\"unique_carrier\", \"carrier_name\", \"unique_carrier_name\", \"carrier\"]]"
   ]
  },
  {
   "cell_type": "code",
   "execution_count": 8,
   "id": "fcd9112c",
   "metadata": {},
   "outputs": [],
   "source": [
    "pass_df = orig_pass.copy()"
   ]
  },
  {
   "cell_type": "code",
   "execution_count": 9,
   "id": "d0564e8f",
   "metadata": {},
   "outputs": [],
   "source": [
    "# keeping unique_carrier and unique_carrier_name\n",
    "pass_df.drop([\"carrier\", \"carrier_name\"], axis=1, inplace=True)"
   ]
  },
  {
   "cell_type": "code",
   "execution_count": 10,
   "id": "8edd6947",
   "metadata": {},
   "outputs": [],
   "source": [
    "# some carrier groups are updated to a new code\n",
    "# drop carrier_group\n",
    "pass_df.drop([\"carrier_group\"], axis=1, inplace=True)"
   ]
  },
  {
   "cell_type": "code",
   "execution_count": 11,
   "id": "7fd7c617",
   "metadata": {
    "scrolled": false
   },
   "outputs": [
    {
     "data": {
      "text/plain": [
       "departures_scheduled     0\n",
       "departures_performed     0\n",
       "payload                  0\n",
       "seats                    0\n",
       "passengers               0\n",
       "freight                  0\n",
       "mail                     0\n",
       "distance                 0\n",
       "ramp_to_ramp             0\n",
       "air_time                 0\n",
       "unique_carrier           0\n",
       "airline_id               0\n",
       "unique_carrier_name      0\n",
       "region                   0\n",
       "carrier_group_new        0\n",
       "origin_airport_id        0\n",
       "origin_city_market_id    0\n",
       "origin                   0\n",
       "origin_city_name         0\n",
       "origin_country           0\n",
       "origin_country_name      0\n",
       "dest_airport_id          0\n",
       "dest_city_market_id      0\n",
       "dest                     0\n",
       "dest_city_name           0\n",
       "dest_country             0\n",
       "dest_country_name        0\n",
       "aircraft_group           0\n",
       "aircraft_type            0\n",
       "aircraft_config          0\n",
       "year                     0\n",
       "month                    0\n",
       "distance_group           0\n",
       "class                    0\n",
       "dtype: int64"
      ]
     },
     "execution_count": 11,
     "metadata": {},
     "output_type": "execute_result"
    }
   ],
   "source": [
    "pass_df.isnull().sum()"
   ]
  },
  {
   "cell_type": "code",
   "execution_count": 12,
   "id": "019b344e",
   "metadata": {
    "scrolled": true
   },
   "outputs": [
    {
     "data": {
      "text/html": [
       "<div>\n",
       "<style scoped>\n",
       "    .dataframe tbody tr th:only-of-type {\n",
       "        vertical-align: middle;\n",
       "    }\n",
       "\n",
       "    .dataframe tbody tr th {\n",
       "        vertical-align: top;\n",
       "    }\n",
       "\n",
       "    .dataframe thead th {\n",
       "        text-align: right;\n",
       "    }\n",
       "</style>\n",
       "<table border=\"1\" class=\"dataframe\">\n",
       "  <thead>\n",
       "    <tr style=\"text-align: right;\">\n",
       "      <th></th>\n",
       "      <th>year</th>\n",
       "      <th>month</th>\n",
       "      <th>airline_id</th>\n",
       "      <th>unique_carrier</th>\n",
       "      <th>unique_carrier_name</th>\n",
       "      <th>origin_airport_id</th>\n",
       "      <th>origin_city_name</th>\n",
       "      <th>dest_airport_id</th>\n",
       "      <th>dest_city_name</th>\n",
       "      <th>seats</th>\n",
       "      <th>passengers</th>\n",
       "      <th>distance</th>\n",
       "      <th>class</th>\n",
       "      <th>payload</th>\n",
       "    </tr>\n",
       "  </thead>\n",
       "  <tbody>\n",
       "    <tr>\n",
       "      <th>0</th>\n",
       "      <td>2019</td>\n",
       "      <td>4</td>\n",
       "      <td>21909</td>\n",
       "      <td>3AQ</td>\n",
       "      <td>Maritime Helicopters, Inc.</td>\n",
       "      <td>16567</td>\n",
       "      <td>Akun, AK</td>\n",
       "      <td>12786</td>\n",
       "      <td>Akutan, AK</td>\n",
       "      <td>420</td>\n",
       "      <td>71</td>\n",
       "      <td>7.0</td>\n",
       "      <td>F</td>\n",
       "      <td>84000.0</td>\n",
       "    </tr>\n",
       "    <tr>\n",
       "      <th>1</th>\n",
       "      <td>2019</td>\n",
       "      <td>4</td>\n",
       "      <td>21909</td>\n",
       "      <td>3AQ</td>\n",
       "      <td>Maritime Helicopters, Inc.</td>\n",
       "      <td>16567</td>\n",
       "      <td>Akun, AK</td>\n",
       "      <td>12786</td>\n",
       "      <td>Akutan, AK</td>\n",
       "      <td>720</td>\n",
       "      <td>102</td>\n",
       "      <td>7.0</td>\n",
       "      <td>L</td>\n",
       "      <td>144000.0</td>\n",
       "    </tr>\n",
       "    <tr>\n",
       "      <th>2</th>\n",
       "      <td>2019</td>\n",
       "      <td>4</td>\n",
       "      <td>21909</td>\n",
       "      <td>3AQ</td>\n",
       "      <td>Maritime Helicopters, Inc.</td>\n",
       "      <td>16668</td>\n",
       "      <td>Deadhorse1, AK</td>\n",
       "      <td>14709</td>\n",
       "      <td>Deadhorse, AK</td>\n",
       "      <td>24</td>\n",
       "      <td>0</td>\n",
       "      <td>51.0</td>\n",
       "      <td>L</td>\n",
       "      <td>4800.0</td>\n",
       "    </tr>\n",
       "    <tr>\n",
       "      <th>3</th>\n",
       "      <td>2019</td>\n",
       "      <td>4</td>\n",
       "      <td>21909</td>\n",
       "      <td>3AQ</td>\n",
       "      <td>Maritime Helicopters, Inc.</td>\n",
       "      <td>10170</td>\n",
       "      <td>Kodiak, AK</td>\n",
       "      <td>10170</td>\n",
       "      <td>Kodiak, AK</td>\n",
       "      <td>6</td>\n",
       "      <td>3</td>\n",
       "      <td>0.0</td>\n",
       "      <td>L</td>\n",
       "      <td>1200.0</td>\n",
       "    </tr>\n",
       "    <tr>\n",
       "      <th>4</th>\n",
       "      <td>2019</td>\n",
       "      <td>4</td>\n",
       "      <td>21909</td>\n",
       "      <td>3AQ</td>\n",
       "      <td>Maritime Helicopters, Inc.</td>\n",
       "      <td>11214</td>\n",
       "      <td>Coldfoot, AK</td>\n",
       "      <td>11214</td>\n",
       "      <td>Coldfoot, AK</td>\n",
       "      <td>24</td>\n",
       "      <td>10</td>\n",
       "      <td>0.0</td>\n",
       "      <td>L</td>\n",
       "      <td>4800.0</td>\n",
       "    </tr>\n",
       "  </tbody>\n",
       "</table>\n",
       "</div>"
      ],
      "text/plain": [
       "   year  month  airline_id unique_carrier         unique_carrier_name  \\\n",
       "0  2019      4       21909            3AQ  Maritime Helicopters, Inc.   \n",
       "1  2019      4       21909            3AQ  Maritime Helicopters, Inc.   \n",
       "2  2019      4       21909            3AQ  Maritime Helicopters, Inc.   \n",
       "3  2019      4       21909            3AQ  Maritime Helicopters, Inc.   \n",
       "4  2019      4       21909            3AQ  Maritime Helicopters, Inc.   \n",
       "\n",
       "   origin_airport_id origin_city_name  dest_airport_id dest_city_name  seats  \\\n",
       "0              16567         Akun, AK            12786     Akutan, AK    420   \n",
       "1              16567         Akun, AK            12786     Akutan, AK    720   \n",
       "2              16668   Deadhorse1, AK            14709  Deadhorse, AK     24   \n",
       "3              10170       Kodiak, AK            10170     Kodiak, AK      6   \n",
       "4              11214     Coldfoot, AK            11214   Coldfoot, AK     24   \n",
       "\n",
       "   passengers  distance class   payload  \n",
       "0          71       7.0     F   84000.0  \n",
       "1         102       7.0     L  144000.0  \n",
       "2           0      51.0     L    4800.0  \n",
       "3           3       0.0     L    1200.0  \n",
       "4          10       0.0     L    4800.0  "
      ]
     },
     "execution_count": 12,
     "metadata": {},
     "output_type": "execute_result"
    }
   ],
   "source": [
    "final_pass = pass_df[[\"year\", \"month\", \n",
    "                      \"airline_id\", \"unique_carrier\", \"unique_carrier_name\", \n",
    "                      \"origin_airport_id\", \"origin_city_name\",\n",
    "                      \"dest_airport_id\", \"dest_city_name\",\n",
    "                      \"seats\", \"passengers\",\n",
    "                      \"distance\",\n",
    "                      \"class\",\n",
    "                      \"payload\"]]\n",
    "final_pass.head()"
   ]
  },
  {
   "cell_type": "code",
   "execution_count": 13,
   "id": "7f44b510",
   "metadata": {},
   "outputs": [],
   "source": [
    "final_pass.to_csv(\"./data/passengers_clean.csv\", index=False)"
   ]
  },
  {
   "cell_type": "markdown",
   "id": "cba862a0",
   "metadata": {},
   "source": [
    "# Exploration"
   ]
  },
  {
   "cell_type": "code",
   "execution_count": 14,
   "id": "cb07880f",
   "metadata": {
    "scrolled": true
   },
   "outputs": [
    {
     "data": {
      "text/html": [
       "<div>\n",
       "<style scoped>\n",
       "    .dataframe tbody tr th:only-of-type {\n",
       "        vertical-align: middle;\n",
       "    }\n",
       "\n",
       "    .dataframe tbody tr th {\n",
       "        vertical-align: top;\n",
       "    }\n",
       "\n",
       "    .dataframe thead th {\n",
       "        text-align: right;\n",
       "    }\n",
       "</style>\n",
       "<table border=\"1\" class=\"dataframe\">\n",
       "  <thead>\n",
       "    <tr style=\"text-align: right;\">\n",
       "      <th></th>\n",
       "      <th>month</th>\n",
       "      <th>passengers</th>\n",
       "    </tr>\n",
       "  </thead>\n",
       "  <tbody>\n",
       "    <tr>\n",
       "      <th>0</th>\n",
       "      <td>1</td>\n",
       "      <td>1919.806072</td>\n",
       "    </tr>\n",
       "    <tr>\n",
       "      <th>1</th>\n",
       "      <td>2</td>\n",
       "      <td>1876.343798</td>\n",
       "    </tr>\n",
       "    <tr>\n",
       "      <th>2</th>\n",
       "      <td>3</td>\n",
       "      <td>2252.240436</td>\n",
       "    </tr>\n",
       "    <tr>\n",
       "      <th>3</th>\n",
       "      <td>4</td>\n",
       "      <td>2231.654466</td>\n",
       "    </tr>\n",
       "    <tr>\n",
       "      <th>4</th>\n",
       "      <td>12</td>\n",
       "      <td>2044.439673</td>\n",
       "    </tr>\n",
       "  </tbody>\n",
       "</table>\n",
       "</div>"
      ],
      "text/plain": [
       "   month   passengers\n",
       "0      1  1919.806072\n",
       "1      2  1876.343798\n",
       "2      3  2252.240436\n",
       "3      4  2231.654466\n",
       "4     12  2044.439673"
      ]
     },
     "execution_count": 14,
     "metadata": {},
     "output_type": "execute_result"
    }
   ],
   "source": [
    "# average passengers per month\n",
    "avg_pass = final_pass[[\"unique_carrier\", \"month\", \"passengers\"]].groupby(\"month\").mean().reset_index()\n",
    "\n",
    "avg_pass.head()"
   ]
  },
  {
   "cell_type": "code",
   "execution_count": 15,
   "id": "254da06e",
   "metadata": {
    "scrolled": false
   },
   "outputs": [
    {
     "data": {
      "image/png": "[encoded data removed]",
      "text/plain": [
       "<Figure size 720x576 with 1 Axes>"
      ]
     },
     "metadata": {
      "needs_background": "light"
     },
     "output_type": "display_data"
    }
   ],
   "source": [
    "fig, ax = plt.subplots(figsize=(10,8))\n",
    "\n",
    "sns.barplot(x=\"month\", y=\"passengers\", data=avg_pass)\n",
    "ax.grid(linestyle=\"--\")\n",
    "ax.set_title(\"Average Passengers per Month\", fontsize=18)\n",
    "ax.set_ylabel(\"# of Passengers\")\n",
    "ax.set_xlabel(\"Month\")\n",
    "\n",
    "plt.show()"
   ]
  },
  {
   "cell_type": "markdown",
   "id": "ff006af5",
   "metadata": {},
   "source": [
    "In the above graph, the 12th month is from 2018. The rest are from 2019."
   ]
  },
  {
   "cell_type": "markdown",
   "id": "f737ac89",
   "metadata": {},
   "source": [
    "Next, I will be comparing the highest number of flights and the number of passengers by airline. Because the Flights data contained information for 3 months (January, March, and April), I will need to filter out the months from the Passengers data that are not in Flights. These months are December and Febuary."
   ]
  },
  {
   "cell_type": "code",
   "execution_count": 16,
   "id": "a2bdde25",
   "metadata": {},
   "outputs": [
    {
     "data": {
      "text/plain": [
       "array([4, 3, 1], dtype=int64)"
      ]
     },
     "execution_count": 16,
     "metadata": {},
     "output_type": "execute_result"
    }
   ],
   "source": [
    "pass_exp = final_pass[(final_pass[\"month\"] != 12) & (final_pass[\"month\"] != 2)]\n",
    "\n",
    "pass_exp.month.unique()"
   ]
  },
  {
   "cell_type": "code",
   "execution_count": 17,
   "id": "27337954",
   "metadata": {},
   "outputs": [],
   "source": [
    "# saving copy of passengers with Dec and Feb filtered out\n",
    "pass_exp.to_csv(\"./data/pass_decfeb_removed.csv\")"
   ]
  },
  {
   "cell_type": "markdown",
   "id": "54c93423",
   "metadata": {},
   "source": [
    "### Highest Passengers"
   ]
  },
  {
   "cell_type": "code",
   "execution_count": 18,
   "id": "fb5f0f5d",
   "metadata": {
    "scrolled": true
   },
   "outputs": [
    {
     "data": {
      "text/html": [
       "<div>\n",
       "<style scoped>\n",
       "    .dataframe tbody tr th:only-of-type {\n",
       "        vertical-align: middle;\n",
       "    }\n",
       "\n",
       "    .dataframe tbody tr th {\n",
       "        vertical-align: top;\n",
       "    }\n",
       "\n",
       "    .dataframe thead th {\n",
       "        text-align: right;\n",
       "    }\n",
       "</style>\n",
       "<table border=\"1\" class=\"dataframe\">\n",
       "  <thead>\n",
       "    <tr style=\"text-align: right;\">\n",
       "      <th></th>\n",
       "      <th>passengers</th>\n",
       "    </tr>\n",
       "    <tr>\n",
       "      <th>unique_carrier</th>\n",
       "      <th></th>\n",
       "    </tr>\n",
       "  </thead>\n",
       "  <tbody>\n",
       "    <tr>\n",
       "      <th>WN</th>\n",
       "      <td>1.372482e+07</td>\n",
       "    </tr>\n",
       "    <tr>\n",
       "      <th>DL</th>\n",
       "      <td>1.287594e+07</td>\n",
       "    </tr>\n",
       "    <tr>\n",
       "      <th>AA</th>\n",
       "      <td>1.263066e+07</td>\n",
       "    </tr>\n",
       "    <tr>\n",
       "      <th>UA</th>\n",
       "      <td>9.325688e+06</td>\n",
       "    </tr>\n",
       "    <tr>\n",
       "      <th>B6</th>\n",
       "      <td>3.577897e+06</td>\n",
       "    </tr>\n",
       "    <tr>\n",
       "      <th>OO</th>\n",
       "      <td>3.333310e+06</td>\n",
       "    </tr>\n",
       "    <tr>\n",
       "      <th>AS</th>\n",
       "      <td>2.836219e+06</td>\n",
       "    </tr>\n",
       "    <tr>\n",
       "      <th>NK</th>\n",
       "      <td>2.763309e+06</td>\n",
       "    </tr>\n",
       "    <tr>\n",
       "      <th>F9</th>\n",
       "      <td>1.686978e+06</td>\n",
       "    </tr>\n",
       "    <tr>\n",
       "      <th>YX</th>\n",
       "      <td>1.504787e+06</td>\n",
       "    </tr>\n",
       "  </tbody>\n",
       "</table>\n",
       "</div>"
      ],
      "text/plain": [
       "                  passengers\n",
       "unique_carrier              \n",
       "WN              1.372482e+07\n",
       "DL              1.287594e+07\n",
       "AA              1.263066e+07\n",
       "UA              9.325688e+06\n",
       "B6              3.577897e+06\n",
       "OO              3.333310e+06\n",
       "AS              2.836219e+06\n",
       "NK              2.763309e+06\n",
       "F9              1.686978e+06\n",
       "YX              1.504787e+06"
      ]
     },
     "execution_count": 18,
     "metadata": {},
     "output_type": "execute_result"
    }
   ],
   "source": [
    "pass_exp = pass_exp[[\"unique_carrier\", \"month\", \"passengers\"]]\n",
    "\n",
    "# number of passengers per carrier by month\n",
    "sum_pass = pass_exp.groupby([\"unique_carrier\", \"month\"]).sum()\n",
    "# mean passengers per carrier \n",
    "avg_pass = sum_pass.groupby([\"unique_carrier\"]).mean().sort_values(by=\"passengers\", ascending=False)\n",
    "\n",
    "top10 = avg_pass.head(10)\n",
    "top10"
   ]
  },
  {
   "cell_type": "code",
   "execution_count": 19,
   "id": "eff6575f",
   "metadata": {
    "scrolled": false
   },
   "outputs": [
    {
     "data": {
      "image/png": "[encoded data removed]",
      "text/plain": [
       "<Figure size 720x576 with 1 Axes>"
      ]
     },
     "metadata": {
      "needs_background": "light"
     },
     "output_type": "display_data"
    }
   ],
   "source": [
    "plt_top10 = top10.reset_index()\n",
    "\n",
    "# comparing the top airlines according to number of passengers\n",
    "fig, ax = plt.subplots(figsize=(10,8))\n",
    "\n",
    "sns.barplot(x=plt_top10.passengers.values/1000000, y=\"unique_carrier\", data=plt_top10)\n",
    "ax.grid(linestyle=\"--\")\n",
    "ax.set_title(\"Top 10 Airlines by Passengers\", fontsize=18)\n",
    "ax.set_ylabel(\"Airline\")\n",
    "ax.set_xlabel(\"Average passengers per million\")\n",
    "\n",
    "plt.show()"
   ]
  },
  {
   "cell_type": "markdown",
   "id": "ea2ff818",
   "metadata": {},
   "source": [
    "### Top flights"
   ]
  },
  {
   "cell_type": "code",
   "execution_count": 20,
   "id": "213fa11c",
   "metadata": {},
   "outputs": [],
   "source": [
    "flights = pd.read_csv(\"./data/flights_clean.csv\")"
   ]
  },
  {
   "cell_type": "code",
   "execution_count": 21,
   "id": "3d87466c",
   "metadata": {
    "scrolled": true
   },
   "outputs": [
    {
     "data": {
      "text/html": [
       "<div>\n",
       "<style scoped>\n",
       "    .dataframe tbody tr th:only-of-type {\n",
       "        vertical-align: middle;\n",
       "    }\n",
       "\n",
       "    .dataframe tbody tr th {\n",
       "        vertical-align: top;\n",
       "    }\n",
       "\n",
       "    .dataframe thead th {\n",
       "        text-align: right;\n",
       "    }\n",
       "</style>\n",
       "<table border=\"1\" class=\"dataframe\">\n",
       "  <thead>\n",
       "    <tr style=\"text-align: right;\">\n",
       "      <th></th>\n",
       "      <th>flights</th>\n",
       "    </tr>\n",
       "    <tr>\n",
       "      <th>mkt_unique_carrier</th>\n",
       "      <th></th>\n",
       "    </tr>\n",
       "  </thead>\n",
       "  <tbody>\n",
       "    <tr>\n",
       "      <th>AA</th>\n",
       "      <td>33285.333333</td>\n",
       "    </tr>\n",
       "    <tr>\n",
       "      <th>DL</th>\n",
       "      <td>27986.333333</td>\n",
       "    </tr>\n",
       "    <tr>\n",
       "      <th>UA</th>\n",
       "      <td>24201.000000</td>\n",
       "    </tr>\n",
       "    <tr>\n",
       "      <th>WN</th>\n",
       "      <td>22009.333333</td>\n",
       "    </tr>\n",
       "    <tr>\n",
       "      <th>AS</th>\n",
       "      <td>7016.666667</td>\n",
       "    </tr>\n",
       "    <tr>\n",
       "      <th>B6</th>\n",
       "      <td>4590.000000</td>\n",
       "    </tr>\n",
       "    <tr>\n",
       "      <th>NK</th>\n",
       "      <td>3083.666667</td>\n",
       "    </tr>\n",
       "    <tr>\n",
       "      <th>F9</th>\n",
       "      <td>2010.333333</td>\n",
       "    </tr>\n",
       "    <tr>\n",
       "      <th>HA</th>\n",
       "      <td>1594.333333</td>\n",
       "    </tr>\n",
       "    <tr>\n",
       "      <th>G4</th>\n",
       "      <td>1499.666667</td>\n",
       "    </tr>\n",
       "  </tbody>\n",
       "</table>\n",
       "</div>"
      ],
      "text/plain": [
       "                         flights\n",
       "mkt_unique_carrier              \n",
       "AA                  33285.333333\n",
       "DL                  27986.333333\n",
       "UA                  24201.000000\n",
       "WN                  22009.333333\n",
       "AS                   7016.666667\n",
       "B6                   4590.000000\n",
       "NK                   3083.666667\n",
       "F9                   2010.333333\n",
       "HA                   1594.333333\n",
       "G4                   1499.666667"
      ]
     },
     "execution_count": 21,
     "metadata": {},
     "output_type": "execute_result"
    }
   ],
   "source": [
    "flights_exp = flights[[\"mkt_unique_carrier\", \"month\", \"flights\"]]\n",
    "\n",
    "# number of flights per carrier by month\n",
    "sum_flights = flights_exp.groupby([\"mkt_unique_carrier\", \"month\"]).sum()\n",
    "# mean flights per carrier \n",
    "avg_flights = sum_flights.groupby([\"mkt_unique_carrier\"]).mean().sort_values(by=\"flights\", ascending=False)\n",
    "\n",
    "avg_flights"
   ]
  },
  {
   "cell_type": "code",
   "execution_count": 22,
   "id": "e39ad2e1",
   "metadata": {
    "scrolled": false
   },
   "outputs": [
    {
     "data": {
      "image/png": "[encoded data removed]",
      "text/plain": [
       "<Figure size 720x576 with 1 Axes>"
      ]
     },
     "metadata": {
      "needs_background": "light"
     },
     "output_type": "display_data"
    }
   ],
   "source": [
    "avg_flights = avg_flights.reset_index()\n",
    "\n",
    "# comparing the top airlines according to number of flights\n",
    "fig, ax = plt.subplots(figsize=(10,8))\n",
    "\n",
    "sns.barplot(x=avg_flights.flights.values, y=\"mkt_unique_carrier\", data=avg_flights)\n",
    "ax.grid(linestyle=\"--\")\n",
    "ax.set_title(\"Top 10 Flights\", fontsize=18)\n",
    "ax.set_ylabel(\"Airline\")\n",
    "ax.set_xlabel(\"Average Flights\")\n",
    "\n",
    "plt.show()"
   ]
  },
  {
   "cell_type": "code",
   "execution_count": null,
   "id": "de035efb",
   "metadata": {},
   "outputs": [],
   "source": []
  },
  {
   "cell_type": "code",
   "execution_count": 21,
   "id": "33992f2f",
   "metadata": {},
   "outputs": [],
   "source": [
    "# does biggest number of flights mean that the biggest number of passengers went through \n",
    "# the particular airport"
   ]
  },
  {
   "cell_type": "code",
   "execution_count": 23,
   "id": "d88a80c9",
   "metadata": {},
   "outputs": [],
   "source": [
    "plt_top10_cp = plt_top10.rename({\"unique_carrier\": \"mkt_unique_carrier\"}, axis=1)"
   ]
  },
  {
   "cell_type": "code",
   "execution_count": 24,
   "id": "09b405d0",
   "metadata": {
    "scrolled": false
   },
   "outputs": [
    {
     "data": {
      "text/html": [
       "<div>\n",
       "<style scoped>\n",
       "    .dataframe tbody tr th:only-of-type {\n",
       "        vertical-align: middle;\n",
       "    }\n",
       "\n",
       "    .dataframe tbody tr th {\n",
       "        vertical-align: top;\n",
       "    }\n",
       "\n",
       "    .dataframe thead th {\n",
       "        text-align: right;\n",
       "    }\n",
       "</style>\n",
       "<table border=\"1\" class=\"dataframe\">\n",
       "  <thead>\n",
       "    <tr style=\"text-align: right;\">\n",
       "      <th></th>\n",
       "      <th>mkt_unique_carrier</th>\n",
       "      <th>flights</th>\n",
       "      <th>passengers</th>\n",
       "    </tr>\n",
       "  </thead>\n",
       "  <tbody>\n",
       "    <tr>\n",
       "      <th>0</th>\n",
       "      <td>AA</td>\n",
       "      <td>33285.333333</td>\n",
       "      <td>1.263066e+07</td>\n",
       "    </tr>\n",
       "    <tr>\n",
       "      <th>1</th>\n",
       "      <td>DL</td>\n",
       "      <td>27986.333333</td>\n",
       "      <td>1.287594e+07</td>\n",
       "    </tr>\n",
       "    <tr>\n",
       "      <th>2</th>\n",
       "      <td>UA</td>\n",
       "      <td>24201.000000</td>\n",
       "      <td>9.325688e+06</td>\n",
       "    </tr>\n",
       "    <tr>\n",
       "      <th>3</th>\n",
       "      <td>WN</td>\n",
       "      <td>22009.333333</td>\n",
       "      <td>1.372482e+07</td>\n",
       "    </tr>\n",
       "    <tr>\n",
       "      <th>4</th>\n",
       "      <td>AS</td>\n",
       "      <td>7016.666667</td>\n",
       "      <td>2.836219e+06</td>\n",
       "    </tr>\n",
       "    <tr>\n",
       "      <th>5</th>\n",
       "      <td>B6</td>\n",
       "      <td>4590.000000</td>\n",
       "      <td>3.577897e+06</td>\n",
       "    </tr>\n",
       "    <tr>\n",
       "      <th>6</th>\n",
       "      <td>NK</td>\n",
       "      <td>3083.666667</td>\n",
       "      <td>2.763309e+06</td>\n",
       "    </tr>\n",
       "    <tr>\n",
       "      <th>7</th>\n",
       "      <td>F9</td>\n",
       "      <td>2010.333333</td>\n",
       "      <td>1.686978e+06</td>\n",
       "    </tr>\n",
       "    <tr>\n",
       "      <th>8</th>\n",
       "      <td>HA</td>\n",
       "      <td>1594.333333</td>\n",
       "      <td>NaN</td>\n",
       "    </tr>\n",
       "    <tr>\n",
       "      <th>9</th>\n",
       "      <td>G4</td>\n",
       "      <td>1499.666667</td>\n",
       "      <td>NaN</td>\n",
       "    </tr>\n",
       "    <tr>\n",
       "      <th>10</th>\n",
       "      <td>OO</td>\n",
       "      <td>NaN</td>\n",
       "      <td>3.333310e+06</td>\n",
       "    </tr>\n",
       "    <tr>\n",
       "      <th>11</th>\n",
       "      <td>YX</td>\n",
       "      <td>NaN</td>\n",
       "      <td>1.504787e+06</td>\n",
       "    </tr>\n",
       "  </tbody>\n",
       "</table>\n",
       "</div>"
      ],
      "text/plain": [
       "   mkt_unique_carrier       flights    passengers\n",
       "0                  AA  33285.333333  1.263066e+07\n",
       "1                  DL  27986.333333  1.287594e+07\n",
       "2                  UA  24201.000000  9.325688e+06\n",
       "3                  WN  22009.333333  1.372482e+07\n",
       "4                  AS   7016.666667  2.836219e+06\n",
       "5                  B6   4590.000000  3.577897e+06\n",
       "6                  NK   3083.666667  2.763309e+06\n",
       "7                  F9   2010.333333  1.686978e+06\n",
       "8                  HA   1594.333333           NaN\n",
       "9                  G4   1499.666667           NaN\n",
       "10                 OO           NaN  3.333310e+06\n",
       "11                 YX           NaN  1.504787e+06"
      ]
     },
     "execution_count": 24,
     "metadata": {},
     "output_type": "execute_result"
    }
   ],
   "source": [
    "combined = pd.merge(avg_flights, plt_top10_cp, on=\"mkt_unique_carrier\", how=\"outer\")\n",
    "\n",
    "combined"
   ]
  },
  {
   "cell_type": "code",
   "execution_count": 27,
   "id": "c437a955",
   "metadata": {},
   "outputs": [
    {
     "data": {
      "text/plain": [
       "Text(0, 0.5, '# of passengers per million')"
      ]
     },
     "execution_count": 27,
     "metadata": {},
     "output_type": "execute_result"
    },
    {
     "data": {
      "image/png": "[encoded data removed]",
      "text/plain": [
       "<Figure size 432x288 with 1 Axes>"
      ]
     },
     "metadata": {
      "needs_background": "light"
     },
     "output_type": "display_data"
    }
   ],
   "source": [
    "ax = sns.regplot(x=combined.flights, y=combined.passengers/1000000, data=combined)\n",
    "ax.set_title(\"Passengers vs Flights\")\n",
    "ax.set_xlabel(\"# of flights\")\n",
    "ax.set_ylabel(\"# of passengers per million\")"
   ]
  },
  {
   "cell_type": "code",
   "execution_count": null,
   "id": "2e65057c",
   "metadata": {},
   "outputs": [],
   "source": []
  },
  {
   "cell_type": "code",
   "execution_count": null,
   "id": "15db7208",
   "metadata": {},
   "outputs": [],
   "source": []
  },
  {
   "cell_type": "code",
   "execution_count": 28,
   "id": "fe2f6ef4",
   "metadata": {},
   "outputs": [],
   "source": [
    "test = final_pass.copy()"
   ]
  },
  {
   "cell_type": "code",
   "execution_count": 29,
   "id": "fdf3a50a",
   "metadata": {},
   "outputs": [],
   "source": [
    "test[\"percent_capacity\"] = (test[\"passengers\"] / test[\"seats\"]) * 100"
   ]
  },
  {
   "cell_type": "code",
   "execution_count": 30,
   "id": "8fce8e5e",
   "metadata": {
    "scrolled": true
   },
   "outputs": [
    {
     "data": {
      "text/html": [
       "<div>\n",
       "<style scoped>\n",
       "    .dataframe tbody tr th:only-of-type {\n",
       "        vertical-align: middle;\n",
       "    }\n",
       "\n",
       "    .dataframe tbody tr th {\n",
       "        vertical-align: top;\n",
       "    }\n",
       "\n",
       "    .dataframe thead th {\n",
       "        text-align: right;\n",
       "    }\n",
       "</style>\n",
       "<table border=\"1\" class=\"dataframe\">\n",
       "  <thead>\n",
       "    <tr style=\"text-align: right;\">\n",
       "      <th></th>\n",
       "      <th>year</th>\n",
       "      <th>month</th>\n",
       "      <th>airline_id</th>\n",
       "      <th>unique_carrier</th>\n",
       "      <th>unique_carrier_name</th>\n",
       "      <th>origin_airport_id</th>\n",
       "      <th>origin_city_name</th>\n",
       "      <th>dest_airport_id</th>\n",
       "      <th>dest_city_name</th>\n",
       "      <th>seats</th>\n",
       "      <th>passengers</th>\n",
       "      <th>distance</th>\n",
       "      <th>class</th>\n",
       "      <th>payload</th>\n",
       "      <th>percent_capacity</th>\n",
       "    </tr>\n",
       "  </thead>\n",
       "  <tbody>\n",
       "    <tr>\n",
       "      <th>0</th>\n",
       "      <td>2019</td>\n",
       "      <td>4</td>\n",
       "      <td>21909</td>\n",
       "      <td>3AQ</td>\n",
       "      <td>Maritime Helicopters, Inc.</td>\n",
       "      <td>16567</td>\n",
       "      <td>Akun, AK</td>\n",
       "      <td>12786</td>\n",
       "      <td>Akutan, AK</td>\n",
       "      <td>420</td>\n",
       "      <td>71</td>\n",
       "      <td>7.0</td>\n",
       "      <td>F</td>\n",
       "      <td>84000.0</td>\n",
       "      <td>16.904762</td>\n",
       "    </tr>\n",
       "    <tr>\n",
       "      <th>1</th>\n",
       "      <td>2019</td>\n",
       "      <td>4</td>\n",
       "      <td>21909</td>\n",
       "      <td>3AQ</td>\n",
       "      <td>Maritime Helicopters, Inc.</td>\n",
       "      <td>16567</td>\n",
       "      <td>Akun, AK</td>\n",
       "      <td>12786</td>\n",
       "      <td>Akutan, AK</td>\n",
       "      <td>720</td>\n",
       "      <td>102</td>\n",
       "      <td>7.0</td>\n",
       "      <td>L</td>\n",
       "      <td>144000.0</td>\n",
       "      <td>14.166667</td>\n",
       "    </tr>\n",
       "    <tr>\n",
       "      <th>2</th>\n",
       "      <td>2019</td>\n",
       "      <td>4</td>\n",
       "      <td>21909</td>\n",
       "      <td>3AQ</td>\n",
       "      <td>Maritime Helicopters, Inc.</td>\n",
       "      <td>16668</td>\n",
       "      <td>Deadhorse1, AK</td>\n",
       "      <td>14709</td>\n",
       "      <td>Deadhorse, AK</td>\n",
       "      <td>24</td>\n",
       "      <td>0</td>\n",
       "      <td>51.0</td>\n",
       "      <td>L</td>\n",
       "      <td>4800.0</td>\n",
       "      <td>0.000000</td>\n",
       "    </tr>\n",
       "    <tr>\n",
       "      <th>3</th>\n",
       "      <td>2019</td>\n",
       "      <td>4</td>\n",
       "      <td>21909</td>\n",
       "      <td>3AQ</td>\n",
       "      <td>Maritime Helicopters, Inc.</td>\n",
       "      <td>10170</td>\n",
       "      <td>Kodiak, AK</td>\n",
       "      <td>10170</td>\n",
       "      <td>Kodiak, AK</td>\n",
       "      <td>6</td>\n",
       "      <td>3</td>\n",
       "      <td>0.0</td>\n",
       "      <td>L</td>\n",
       "      <td>1200.0</td>\n",
       "      <td>50.000000</td>\n",
       "    </tr>\n",
       "    <tr>\n",
       "      <th>4</th>\n",
       "      <td>2019</td>\n",
       "      <td>4</td>\n",
       "      <td>21909</td>\n",
       "      <td>3AQ</td>\n",
       "      <td>Maritime Helicopters, Inc.</td>\n",
       "      <td>11214</td>\n",
       "      <td>Coldfoot, AK</td>\n",
       "      <td>11214</td>\n",
       "      <td>Coldfoot, AK</td>\n",
       "      <td>24</td>\n",
       "      <td>10</td>\n",
       "      <td>0.0</td>\n",
       "      <td>L</td>\n",
       "      <td>4800.0</td>\n",
       "      <td>41.666667</td>\n",
       "    </tr>\n",
       "  </tbody>\n",
       "</table>\n",
       "</div>"
      ],
      "text/plain": [
       "   year  month  airline_id unique_carrier         unique_carrier_name  \\\n",
       "0  2019      4       21909            3AQ  Maritime Helicopters, Inc.   \n",
       "1  2019      4       21909            3AQ  Maritime Helicopters, Inc.   \n",
       "2  2019      4       21909            3AQ  Maritime Helicopters, Inc.   \n",
       "3  2019      4       21909            3AQ  Maritime Helicopters, Inc.   \n",
       "4  2019      4       21909            3AQ  Maritime Helicopters, Inc.   \n",
       "\n",
       "   origin_airport_id origin_city_name  dest_airport_id dest_city_name  seats  \\\n",
       "0              16567         Akun, AK            12786     Akutan, AK    420   \n",
       "1              16567         Akun, AK            12786     Akutan, AK    720   \n",
       "2              16668   Deadhorse1, AK            14709  Deadhorse, AK     24   \n",
       "3              10170       Kodiak, AK            10170     Kodiak, AK      6   \n",
       "4              11214     Coldfoot, AK            11214   Coldfoot, AK     24   \n",
       "\n",
       "   passengers  distance class   payload  percent_capacity  \n",
       "0          71       7.0     F   84000.0         16.904762  \n",
       "1         102       7.0     L  144000.0         14.166667  \n",
       "2           0      51.0     L    4800.0          0.000000  \n",
       "3           3       0.0     L    1200.0         50.000000  \n",
       "4          10       0.0     L    4800.0         41.666667  "
      ]
     },
     "execution_count": 30,
     "metadata": {},
     "output_type": "execute_result"
    }
   ],
   "source": [
    "test.head()"
   ]
  },
  {
   "cell_type": "code",
   "execution_count": null,
   "id": "6aefac14",
   "metadata": {},
   "outputs": [],
   "source": []
  }
 ],
 "metadata": {
  "kernelspec": {
   "display_name": "test_env",
   "language": "python",
   "name": "test_env"
  },
  "language_info": {
   "codemirror_mode": {
    "name": "ipython",
    "version": 3
   },
   "file_extension": ".py",
   "mimetype": "text/x-python",
   "name": "python",
   "nbconvert_exporter": "python",
   "pygments_lexer": "ipython3",
   "version": "3.9.12"
  }
 },
 "nbformat": 4,
 "nbformat_minor": 5
}
