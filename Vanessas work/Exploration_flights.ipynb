{
 "cells": [
  {
   "cell_type": "markdown",
   "id": "254c6b3b",
   "metadata": {},
   "source": [
    "# Flights"
   ]
  },
  {
   "cell_type": "markdown",
   "id": "5a792d06",
   "metadata": {},
   "source": [
    "This notebook explores flight data from Dec 1, 2018 to Apr 1, 2019. With a limit of 400,000 observations, PostgreSQL retrieved information for the following months: January, March, and April."
   ]
  },
  {
   "cell_type": "markdown",
   "id": "48251084",
   "metadata": {},
   "source": [
    "Definitions:\n",
    "- taxi out: the time between leaving the gate and take off\n",
    "- wheels off: take off time off the ground"
   ]
  },
  {
   "cell_type": "code",
   "execution_count": 1,
   "id": "0dd5c2a3",
   "metadata": {},
   "outputs": [],
   "source": [
    "import pandas as pd\n",
    "import numpy as np\n",
    "import datetime as dt\n",
    "import matplotlib.pyplot as plt\n",
    "import seaborn as sns"
   ]
  },
  {
   "cell_type": "code",
   "execution_count": 2,
   "id": "a1287f8a",
   "metadata": {},
   "outputs": [
    {
     "data": {
      "text/plain": [
       "(400000, 42)"
      ]
     },
     "execution_count": 2,
     "metadata": {},
     "output_type": "execute_result"
    }
   ],
   "source": [
    "orig_flight = pd.read_csv(\"./data/flight_data.csv\")\n",
    "\n",
    "orig_flight.shape"
   ]
  },
  {
   "cell_type": "markdown",
   "id": "f3fde10f",
   "metadata": {},
   "source": [
    "## Cleaning"
   ]
  },
  {
   "cell_type": "code",
   "execution_count": 3,
   "id": "c61837c6",
   "metadata": {
    "scrolled": true
   },
   "outputs": [
    {
     "data": {
      "text/html": [
       "<div>\n",
       "<style scoped>\n",
       "    .dataframe tbody tr th:only-of-type {\n",
       "        vertical-align: middle;\n",
       "    }\n",
       "\n",
       "    .dataframe tbody tr th {\n",
       "        vertical-align: top;\n",
       "    }\n",
       "\n",
       "    .dataframe thead th {\n",
       "        text-align: right;\n",
       "    }\n",
       "</style>\n",
       "<table border=\"1\" class=\"dataframe\">\n",
       "  <thead>\n",
       "    <tr style=\"text-align: right;\">\n",
       "      <th></th>\n",
       "      <th>fl_date</th>\n",
       "      <th>mkt_unique_carrier</th>\n",
       "      <th>branded_code_share</th>\n",
       "      <th>mkt_carrier</th>\n",
       "      <th>mkt_carrier_fl_num</th>\n",
       "      <th>op_unique_carrier</th>\n",
       "      <th>tail_num</th>\n",
       "      <th>op_carrier_fl_num</th>\n",
       "      <th>origin_airport_id</th>\n",
       "      <th>origin</th>\n",
       "      <th>...</th>\n",
       "      <th>distance</th>\n",
       "      <th>carrier_delay</th>\n",
       "      <th>weather_delay</th>\n",
       "      <th>nas_delay</th>\n",
       "      <th>security_delay</th>\n",
       "      <th>late_aircraft_delay</th>\n",
       "      <th>first_dep_time</th>\n",
       "      <th>total_add_gtime</th>\n",
       "      <th>longest_add_gtime</th>\n",
       "      <th>no_name</th>\n",
       "    </tr>\n",
       "  </thead>\n",
       "  <tbody>\n",
       "    <tr>\n",
       "      <th>0</th>\n",
       "      <td>2019-01-18</td>\n",
       "      <td>UA</td>\n",
       "      <td>UA_CODESHARE</td>\n",
       "      <td>UA</td>\n",
       "      <td>4620</td>\n",
       "      <td>AX</td>\n",
       "      <td>N11113</td>\n",
       "      <td>4620</td>\n",
       "      <td>12896</td>\n",
       "      <td>LBB</td>\n",
       "      <td>...</td>\n",
       "      <td>456.0</td>\n",
       "      <td>NaN</td>\n",
       "      <td>NaN</td>\n",
       "      <td>NaN</td>\n",
       "      <td>NaN</td>\n",
       "      <td>NaN</td>\n",
       "      <td>NaN</td>\n",
       "      <td>NaN</td>\n",
       "      <td>NaN</td>\n",
       "      <td>NaN</td>\n",
       "    </tr>\n",
       "    <tr>\n",
       "      <th>1</th>\n",
       "      <td>2019-01-18</td>\n",
       "      <td>UA</td>\n",
       "      <td>UA_CODESHARE</td>\n",
       "      <td>UA</td>\n",
       "      <td>4619</td>\n",
       "      <td>AX</td>\n",
       "      <td>N12122</td>\n",
       "      <td>4619</td>\n",
       "      <td>11292</td>\n",
       "      <td>DEN</td>\n",
       "      <td>...</td>\n",
       "      <td>250.0</td>\n",
       "      <td>NaN</td>\n",
       "      <td>NaN</td>\n",
       "      <td>NaN</td>\n",
       "      <td>NaN</td>\n",
       "      <td>NaN</td>\n",
       "      <td>NaN</td>\n",
       "      <td>NaN</td>\n",
       "      <td>NaN</td>\n",
       "      <td>NaN</td>\n",
       "    </tr>\n",
       "    <tr>\n",
       "      <th>2</th>\n",
       "      <td>2019-01-18</td>\n",
       "      <td>UA</td>\n",
       "      <td>UA_CODESHARE</td>\n",
       "      <td>UA</td>\n",
       "      <td>4618</td>\n",
       "      <td>AX</td>\n",
       "      <td>N846HK</td>\n",
       "      <td>4618</td>\n",
       "      <td>11267</td>\n",
       "      <td>DAY</td>\n",
       "      <td>...</td>\n",
       "      <td>240.0</td>\n",
       "      <td>74.0</td>\n",
       "      <td>0.0</td>\n",
       "      <td>11.0</td>\n",
       "      <td>0.0</td>\n",
       "      <td>90.0</td>\n",
       "      <td>NaN</td>\n",
       "      <td>NaN</td>\n",
       "      <td>NaN</td>\n",
       "      <td>NaN</td>\n",
       "    </tr>\n",
       "    <tr>\n",
       "      <th>3</th>\n",
       "      <td>2019-01-18</td>\n",
       "      <td>UA</td>\n",
       "      <td>UA_CODESHARE</td>\n",
       "      <td>UA</td>\n",
       "      <td>4617</td>\n",
       "      <td>AX</td>\n",
       "      <td>N11155</td>\n",
       "      <td>4617</td>\n",
       "      <td>11637</td>\n",
       "      <td>FAR</td>\n",
       "      <td>...</td>\n",
       "      <td>627.0</td>\n",
       "      <td>NaN</td>\n",
       "      <td>NaN</td>\n",
       "      <td>NaN</td>\n",
       "      <td>NaN</td>\n",
       "      <td>NaN</td>\n",
       "      <td>NaN</td>\n",
       "      <td>NaN</td>\n",
       "      <td>NaN</td>\n",
       "      <td>NaN</td>\n",
       "    </tr>\n",
       "    <tr>\n",
       "      <th>4</th>\n",
       "      <td>2019-01-18</td>\n",
       "      <td>UA</td>\n",
       "      <td>UA_CODESHARE</td>\n",
       "      <td>UA</td>\n",
       "      <td>4616</td>\n",
       "      <td>AX</td>\n",
       "      <td>NaN</td>\n",
       "      <td>4616</td>\n",
       "      <td>13930</td>\n",
       "      <td>ORD</td>\n",
       "      <td>...</td>\n",
       "      <td>109.0</td>\n",
       "      <td>NaN</td>\n",
       "      <td>NaN</td>\n",
       "      <td>NaN</td>\n",
       "      <td>NaN</td>\n",
       "      <td>NaN</td>\n",
       "      <td>NaN</td>\n",
       "      <td>NaN</td>\n",
       "      <td>NaN</td>\n",
       "      <td>NaN</td>\n",
       "    </tr>\n",
       "  </tbody>\n",
       "</table>\n",
       "<p>5 rows × 42 columns</p>\n",
       "</div>"
      ],
      "text/plain": [
       "      fl_date mkt_unique_carrier branded_code_share mkt_carrier  \\\n",
       "0  2019-01-18                 UA       UA_CODESHARE          UA   \n",
       "1  2019-01-18                 UA       UA_CODESHARE          UA   \n",
       "2  2019-01-18                 UA       UA_CODESHARE          UA   \n",
       "3  2019-01-18                 UA       UA_CODESHARE          UA   \n",
       "4  2019-01-18                 UA       UA_CODESHARE          UA   \n",
       "\n",
       "   mkt_carrier_fl_num op_unique_carrier tail_num  op_carrier_fl_num  \\\n",
       "0                4620                AX   N11113               4620   \n",
       "1                4619                AX   N12122               4619   \n",
       "2                4618                AX   N846HK               4618   \n",
       "3                4617                AX   N11155               4617   \n",
       "4                4616                AX      NaN               4616   \n",
       "\n",
       "   origin_airport_id origin  ... distance  carrier_delay weather_delay  \\\n",
       "0              12896    LBB  ...    456.0            NaN           NaN   \n",
       "1              11292    DEN  ...    250.0            NaN           NaN   \n",
       "2              11267    DAY  ...    240.0           74.0           0.0   \n",
       "3              11637    FAR  ...    627.0            NaN           NaN   \n",
       "4              13930    ORD  ...    109.0            NaN           NaN   \n",
       "\n",
       "  nas_delay  security_delay  late_aircraft_delay  first_dep_time  \\\n",
       "0       NaN             NaN                  NaN             NaN   \n",
       "1       NaN             NaN                  NaN             NaN   \n",
       "2      11.0             0.0                 90.0             NaN   \n",
       "3       NaN             NaN                  NaN             NaN   \n",
       "4       NaN             NaN                  NaN             NaN   \n",
       "\n",
       "   total_add_gtime  longest_add_gtime  no_name  \n",
       "0              NaN                NaN      NaN  \n",
       "1              NaN                NaN      NaN  \n",
       "2              NaN                NaN      NaN  \n",
       "3              NaN                NaN      NaN  \n",
       "4              NaN                NaN      NaN  \n",
       "\n",
       "[5 rows x 42 columns]"
      ]
     },
     "execution_count": 3,
     "metadata": {},
     "output_type": "execute_result"
    }
   ],
   "source": [
    "orig_flight.head()"
   ]
  },
  {
   "cell_type": "code",
   "execution_count": 4,
   "id": "80b587a1",
   "metadata": {},
   "outputs": [
    {
     "data": {
      "text/plain": [
       "fl_date                 object\n",
       "mkt_unique_carrier      object\n",
       "branded_code_share      object\n",
       "mkt_carrier             object\n",
       "mkt_carrier_fl_num       int64\n",
       "op_unique_carrier       object\n",
       "tail_num                object\n",
       "op_carrier_fl_num        int64\n",
       "origin_airport_id        int64\n",
       "origin                  object\n",
       "origin_city_name        object\n",
       "dest_airport_id          int64\n",
       "dest                    object\n",
       "dest_city_name          object\n",
       "crs_dep_time             int64\n",
       "dep_time               float64\n",
       "dep_delay              float64\n",
       "taxi_out               float64\n",
       "wheels_off             float64\n",
       "wheels_on              float64\n",
       "taxi_in                float64\n",
       "crs_arr_time             int64\n",
       "arr_time               float64\n",
       "arr_delay              float64\n",
       "cancelled              float64\n",
       "cancellation_code       object\n",
       "diverted               float64\n",
       "dup                     object\n",
       "crs_elapsed_time       float64\n",
       "actual_elapsed_time    float64\n",
       "air_time               float64\n",
       "flights                float64\n",
       "distance               float64\n",
       "carrier_delay          float64\n",
       "weather_delay          float64\n",
       "nas_delay              float64\n",
       "security_delay         float64\n",
       "late_aircraft_delay    float64\n",
       "first_dep_time         float64\n",
       "total_add_gtime        float64\n",
       "longest_add_gtime      float64\n",
       "no_name                float64\n",
       "dtype: object"
      ]
     },
     "execution_count": 4,
     "metadata": {},
     "output_type": "execute_result"
    }
   ],
   "source": [
    "orig_flight.dtypes"
   ]
  },
  {
   "cell_type": "code",
   "execution_count": 5,
   "id": "324d21f7",
   "metadata": {},
   "outputs": [],
   "source": [
    "# change date dtype to datetime\n",
    "orig_flight[\"fl_date\"] = pd.to_datetime(orig_flight[\"fl_date\"], format=\"%Y-%m-%d\")"
   ]
  },
  {
   "cell_type": "code",
   "execution_count": 6,
   "id": "4699f853",
   "metadata": {},
   "outputs": [],
   "source": [
    "def percent_missing(df):\n",
    "    n_missing = df.isnull().sum()\n",
    "    percent_missing = n_missing / len(df) * 100\n",
    "\n",
    "    return percent_missing.sort_values(ascending=False)"
   ]
  },
  {
   "cell_type": "code",
   "execution_count": 7,
   "id": "307ec244",
   "metadata": {},
   "outputs": [
    {
     "data": {
      "text/plain": [
       "no_name                100.00000\n",
       "first_dep_time          99.25100\n",
       "longest_add_gtime       99.25100\n",
       "total_add_gtime         99.25100\n",
       "cancellation_code       95.45750\n",
       "late_aircraft_delay     77.67825\n",
       "security_delay          77.67825\n",
       "nas_delay               77.67825\n",
       "weather_delay           77.67825\n",
       "carrier_delay           77.67825\n",
       "actual_elapsed_time      4.76050\n",
       "arr_delay                4.76050\n",
       "air_time                 4.76050\n",
       "wheels_on                4.59175\n",
       "taxi_in                  4.59175\n",
       "arr_time                 4.59175\n",
       "taxi_out                 4.51650\n",
       "wheels_off               4.51650\n",
       "dep_delay                4.45700\n",
       "dep_time                 4.45650\n",
       "tail_num                 1.14750\n",
       "crs_elapsed_time         0.00200\n",
       "diverted                 0.00000\n",
       "flights                  0.00000\n",
       "distance                 0.00000\n",
       "dup                      0.00000\n",
       "fl_date                  0.00000\n",
       "cancelled                0.00000\n",
       "mkt_unique_carrier       0.00000\n",
       "crs_dep_time             0.00000\n",
       "dest_city_name           0.00000\n",
       "dest                     0.00000\n",
       "dest_airport_id          0.00000\n",
       "origin_city_name         0.00000\n",
       "origin                   0.00000\n",
       "origin_airport_id        0.00000\n",
       "op_carrier_fl_num        0.00000\n",
       "op_unique_carrier        0.00000\n",
       "mkt_carrier_fl_num       0.00000\n",
       "mkt_carrier              0.00000\n",
       "branded_code_share       0.00000\n",
       "crs_arr_time             0.00000\n",
       "dtype: float64"
      ]
     },
     "execution_count": 7,
     "metadata": {},
     "output_type": "execute_result"
    }
   ],
   "source": [
    "percent_missing(orig_flight)"
   ]
  },
  {
   "cell_type": "code",
   "execution_count": 8,
   "id": "6cbbfce7",
   "metadata": {},
   "outputs": [],
   "source": [
    "flight_df = orig_flight.copy()"
   ]
  },
  {
   "cell_type": "code",
   "execution_count": 9,
   "id": "ae5068d2",
   "metadata": {},
   "outputs": [],
   "source": [
    "# drop columns with highest number of nulls\n",
    "flight_df.drop(\"no_name\", axis=1, inplace=True)\n",
    "\n",
    "flight_df.drop([\"first_dep_time\",\n",
    "                \"longest_add_gtime\",\n",
    "                \"total_add_gtime\",\n",
    "                \"cancellation_code\"],\n",
    "               axis=1,\n",
    "               inplace=True)"
   ]
  },
  {
   "cell_type": "code",
   "execution_count": 10,
   "id": "3eeb020f",
   "metadata": {},
   "outputs": [],
   "source": [
    "# cancelled flights don't affect active flights, therefore, it's not useful for predicting delays\n",
    "active_flights = flight_df[flight_df[\"cancelled\"] == 0].reindex()\n",
    "\n",
    "active_flights.drop([\"cancelled\"], axis=1, inplace=True)"
   ]
  },
  {
   "cell_type": "code",
   "execution_count": 11,
   "id": "c70b86e6",
   "metadata": {
    "scrolled": true
   },
   "outputs": [
    {
     "data": {
      "text/plain": [
       "array(['N'], dtype=object)"
      ]
     },
     "execution_count": 11,
     "metadata": {},
     "output_type": "execute_result"
    }
   ],
   "source": [
    "active_flights.dup.unique() # entire column is flagged with \"N\""
   ]
  },
  {
   "cell_type": "code",
   "execution_count": 12,
   "id": "708106d0",
   "metadata": {},
   "outputs": [],
   "source": [
    "# removing columns containing duplicate information\n",
    "active_flights.drop([\"mkt_carrier\", \"op_carrier_fl_num\", \"branded_code_share\"], axis=1, inplace=True)"
   ]
  },
  {
   "cell_type": "code",
   "execution_count": 13,
   "id": "64eced4a",
   "metadata": {},
   "outputs": [],
   "source": [
    "# active_flights[[\"arr_time\",\"crs_arr_time\",\"arr_delay\"]].head()\n",
    "\n",
    "# removing time variables because they are accounted for in arr_delay and dep_delay\n",
    "active_flights.drop([\"crs_dep_time\", \"dep_time\", \"arr_time\", \"crs_arr_time\"], axis=1, inplace=True)"
   ]
  },
  {
   "cell_type": "code",
   "execution_count": 14,
   "id": "e466abae",
   "metadata": {},
   "outputs": [],
   "source": [
    "final_flights = active_flights.copy()"
   ]
  },
  {
   "cell_type": "code",
   "execution_count": 15,
   "id": "55d194d3",
   "metadata": {},
   "outputs": [],
   "source": [
    "final_flights = final_flights.drop([\"wheels_off\", \"wheels_on\"], axis=1)"
   ]
  },
  {
   "cell_type": "code",
   "execution_count": 16,
   "id": "fd8bb9dc",
   "metadata": {},
   "outputs": [],
   "source": [
    "# filter out missing arr_delay values\n",
    "# final_flights = final_flights[final_flights[\"arr_delay\"].notnull()].reset_index()"
   ]
  },
  {
   "cell_type": "code",
   "execution_count": 17,
   "id": "28ed443f",
   "metadata": {},
   "outputs": [
    {
     "data": {
      "text/plain": [
       "late_aircraft_delay    76.616033\n",
       "security_delay         76.616033\n",
       "nas_delay              76.616033\n",
       "weather_delay          76.616033\n",
       "carrier_delay          76.616033\n",
       "arr_delay               0.228374\n",
       "air_time                0.228374\n",
       "actual_elapsed_time     0.228374\n",
       "taxi_in                 0.051594\n",
       "dest                    0.000000\n",
       "dest_city_name          0.000000\n",
       "mkt_carrier_fl_num      0.000000\n",
       "op_unique_carrier       0.000000\n",
       "tail_num                0.000000\n",
       "origin_airport_id       0.000000\n",
       "distance                0.000000\n",
       "flights                 0.000000\n",
       "origin                  0.000000\n",
       "origin_city_name        0.000000\n",
       "crs_elapsed_time        0.000000\n",
       "dup                     0.000000\n",
       "diverted                0.000000\n",
       "dest_airport_id         0.000000\n",
       "mkt_unique_carrier      0.000000\n",
       "taxi_out                0.000000\n",
       "dep_delay               0.000000\n",
       "fl_date                 0.000000\n",
       "dtype: float64"
      ]
     },
     "execution_count": 17,
     "metadata": {},
     "output_type": "execute_result"
    }
   ],
   "source": [
    "percent_missing(final_flights)"
   ]
  },
  {
   "cell_type": "code",
   "execution_count": 18,
   "id": "bf9108d8",
   "metadata": {},
   "outputs": [
    {
     "data": {
      "text/plain": [
       "872"
      ]
     },
     "execution_count": 18,
     "metadata": {},
     "output_type": "execute_result"
    }
   ],
   "source": [
    "final_flights[\"arr_delay\"].isnull().sum()"
   ]
  },
  {
   "cell_type": "code",
   "execution_count": 19,
   "id": "ab064248",
   "metadata": {},
   "outputs": [],
   "source": [
    "final_flights[\"arr_delay\"] = final_flights[\"arr_delay\"].fillna(0)"
   ]
  },
  {
   "cell_type": "code",
   "execution_count": 20,
   "id": "7417683b",
   "metadata": {
    "scrolled": false
   },
   "outputs": [
    {
     "data": {
      "text/html": [
       "<div>\n",
       "<style scoped>\n",
       "    .dataframe tbody tr th:only-of-type {\n",
       "        vertical-align: middle;\n",
       "    }\n",
       "\n",
       "    .dataframe tbody tr th {\n",
       "        vertical-align: top;\n",
       "    }\n",
       "\n",
       "    .dataframe thead th {\n",
       "        text-align: right;\n",
       "    }\n",
       "</style>\n",
       "<table border=\"1\" class=\"dataframe\">\n",
       "  <thead>\n",
       "    <tr style=\"text-align: right;\">\n",
       "      <th></th>\n",
       "      <th>fl_date</th>\n",
       "      <th>mkt_unique_carrier</th>\n",
       "      <th>mkt_carrier_fl_num</th>\n",
       "      <th>op_unique_carrier</th>\n",
       "      <th>tail_num</th>\n",
       "      <th>origin_airport_id</th>\n",
       "      <th>origin</th>\n",
       "      <th>origin_city_name</th>\n",
       "      <th>dest_airport_id</th>\n",
       "      <th>dest</th>\n",
       "      <th>...</th>\n",
       "      <th>crs_elapsed_time</th>\n",
       "      <th>actual_elapsed_time</th>\n",
       "      <th>air_time</th>\n",
       "      <th>flights</th>\n",
       "      <th>distance</th>\n",
       "      <th>carrier_delay</th>\n",
       "      <th>weather_delay</th>\n",
       "      <th>nas_delay</th>\n",
       "      <th>security_delay</th>\n",
       "      <th>late_aircraft_delay</th>\n",
       "    </tr>\n",
       "  </thead>\n",
       "  <tbody>\n",
       "    <tr>\n",
       "      <th>0</th>\n",
       "      <td>2019-01-18</td>\n",
       "      <td>UA</td>\n",
       "      <td>4620</td>\n",
       "      <td>AX</td>\n",
       "      <td>N11113</td>\n",
       "      <td>12896</td>\n",
       "      <td>LBB</td>\n",
       "      <td>Lubbock, TX</td>\n",
       "      <td>11292</td>\n",
       "      <td>DEN</td>\n",
       "      <td>...</td>\n",
       "      <td>100.0</td>\n",
       "      <td>87.0</td>\n",
       "      <td>67.0</td>\n",
       "      <td>1.0</td>\n",
       "      <td>456.0</td>\n",
       "      <td>NaN</td>\n",
       "      <td>NaN</td>\n",
       "      <td>NaN</td>\n",
       "      <td>NaN</td>\n",
       "      <td>NaN</td>\n",
       "    </tr>\n",
       "    <tr>\n",
       "      <th>1</th>\n",
       "      <td>2019-01-18</td>\n",
       "      <td>UA</td>\n",
       "      <td>4619</td>\n",
       "      <td>AX</td>\n",
       "      <td>N12122</td>\n",
       "      <td>11292</td>\n",
       "      <td>DEN</td>\n",
       "      <td>Denver, CO</td>\n",
       "      <td>11413</td>\n",
       "      <td>DRO</td>\n",
       "      <td>...</td>\n",
       "      <td>78.0</td>\n",
       "      <td>67.0</td>\n",
       "      <td>47.0</td>\n",
       "      <td>1.0</td>\n",
       "      <td>250.0</td>\n",
       "      <td>NaN</td>\n",
       "      <td>NaN</td>\n",
       "      <td>NaN</td>\n",
       "      <td>NaN</td>\n",
       "      <td>NaN</td>\n",
       "    </tr>\n",
       "    <tr>\n",
       "      <th>2</th>\n",
       "      <td>2019-01-18</td>\n",
       "      <td>UA</td>\n",
       "      <td>4618</td>\n",
       "      <td>AX</td>\n",
       "      <td>N846HK</td>\n",
       "      <td>11267</td>\n",
       "      <td>DAY</td>\n",
       "      <td>Dayton, OH</td>\n",
       "      <td>13930</td>\n",
       "      <td>ORD</td>\n",
       "      <td>...</td>\n",
       "      <td>81.0</td>\n",
       "      <td>92.0</td>\n",
       "      <td>64.0</td>\n",
       "      <td>1.0</td>\n",
       "      <td>240.0</td>\n",
       "      <td>74.0</td>\n",
       "      <td>0.0</td>\n",
       "      <td>11.0</td>\n",
       "      <td>0.0</td>\n",
       "      <td>90.0</td>\n",
       "    </tr>\n",
       "    <tr>\n",
       "      <th>3</th>\n",
       "      <td>2019-01-18</td>\n",
       "      <td>UA</td>\n",
       "      <td>4617</td>\n",
       "      <td>AX</td>\n",
       "      <td>N11155</td>\n",
       "      <td>11637</td>\n",
       "      <td>FAR</td>\n",
       "      <td>Fargo, ND</td>\n",
       "      <td>11292</td>\n",
       "      <td>DEN</td>\n",
       "      <td>...</td>\n",
       "      <td>136.0</td>\n",
       "      <td>133.0</td>\n",
       "      <td>99.0</td>\n",
       "      <td>1.0</td>\n",
       "      <td>627.0</td>\n",
       "      <td>NaN</td>\n",
       "      <td>NaN</td>\n",
       "      <td>NaN</td>\n",
       "      <td>NaN</td>\n",
       "      <td>NaN</td>\n",
       "    </tr>\n",
       "    <tr>\n",
       "      <th>5</th>\n",
       "      <td>2019-01-18</td>\n",
       "      <td>UA</td>\n",
       "      <td>4615</td>\n",
       "      <td>AX</td>\n",
       "      <td>N18101</td>\n",
       "      <td>11292</td>\n",
       "      <td>DEN</td>\n",
       "      <td>Denver, CO</td>\n",
       "      <td>13367</td>\n",
       "      <td>MLI</td>\n",
       "      <td>...</td>\n",
       "      <td>122.0</td>\n",
       "      <td>118.0</td>\n",
       "      <td>97.0</td>\n",
       "      <td>1.0</td>\n",
       "      <td>752.0</td>\n",
       "      <td>43.0</td>\n",
       "      <td>0.0</td>\n",
       "      <td>0.0</td>\n",
       "      <td>0.0</td>\n",
       "      <td>0.0</td>\n",
       "    </tr>\n",
       "  </tbody>\n",
       "</table>\n",
       "<p>5 rows × 27 columns</p>\n",
       "</div>"
      ],
      "text/plain": [
       "     fl_date mkt_unique_carrier  mkt_carrier_fl_num op_unique_carrier  \\\n",
       "0 2019-01-18                 UA                4620                AX   \n",
       "1 2019-01-18                 UA                4619                AX   \n",
       "2 2019-01-18                 UA                4618                AX   \n",
       "3 2019-01-18                 UA                4617                AX   \n",
       "5 2019-01-18                 UA                4615                AX   \n",
       "\n",
       "  tail_num  origin_airport_id origin origin_city_name  dest_airport_id dest  \\\n",
       "0   N11113              12896    LBB      Lubbock, TX            11292  DEN   \n",
       "1   N12122              11292    DEN       Denver, CO            11413  DRO   \n",
       "2   N846HK              11267    DAY       Dayton, OH            13930  ORD   \n",
       "3   N11155              11637    FAR        Fargo, ND            11292  DEN   \n",
       "5   N18101              11292    DEN       Denver, CO            13367  MLI   \n",
       "\n",
       "   ... crs_elapsed_time  actual_elapsed_time  air_time  flights  distance  \\\n",
       "0  ...            100.0                 87.0      67.0      1.0     456.0   \n",
       "1  ...             78.0                 67.0      47.0      1.0     250.0   \n",
       "2  ...             81.0                 92.0      64.0      1.0     240.0   \n",
       "3  ...            136.0                133.0      99.0      1.0     627.0   \n",
       "5  ...            122.0                118.0      97.0      1.0     752.0   \n",
       "\n",
       "   carrier_delay weather_delay  nas_delay  security_delay  late_aircraft_delay  \n",
       "0            NaN           NaN        NaN             NaN                  NaN  \n",
       "1            NaN           NaN        NaN             NaN                  NaN  \n",
       "2           74.0           0.0       11.0             0.0                 90.0  \n",
       "3            NaN           NaN        NaN             NaN                  NaN  \n",
       "5           43.0           0.0        0.0             0.0                  0.0  \n",
       "\n",
       "[5 rows x 27 columns]"
      ]
     },
     "execution_count": 20,
     "metadata": {},
     "output_type": "execute_result"
    }
   ],
   "source": [
    "final_flights.head()"
   ]
  },
  {
   "cell_type": "markdown",
   "id": "6f08969d",
   "metadata": {},
   "source": [
    "## Exploration"
   ]
  },
  {
   "cell_type": "code",
   "execution_count": 21,
   "id": "2215567a",
   "metadata": {
    "scrolled": true
   },
   "outputs": [
    {
     "data": {
      "text/plain": [
       "(381830, 27)"
      ]
     },
     "execution_count": 21,
     "metadata": {},
     "output_type": "execute_result"
    }
   ],
   "source": [
    "final_flights.shape"
   ]
  },
  {
   "cell_type": "code",
   "execution_count": 22,
   "id": "eea5d92d",
   "metadata": {},
   "outputs": [
    {
     "data": {
      "text/plain": [
       "Index(['fl_date', 'mkt_unique_carrier', 'mkt_carrier_fl_num',\n",
       "       'op_unique_carrier', 'tail_num', 'origin_airport_id', 'origin',\n",
       "       'origin_city_name', 'dest_airport_id', 'dest', 'dest_city_name',\n",
       "       'dep_delay', 'taxi_out', 'taxi_in', 'arr_delay', 'diverted', 'dup',\n",
       "       'crs_elapsed_time', 'actual_elapsed_time', 'air_time', 'flights',\n",
       "       'distance', 'carrier_delay', 'weather_delay', 'nas_delay',\n",
       "       'security_delay', 'late_aircraft_delay'],\n",
       "      dtype='object')"
      ]
     },
     "execution_count": 22,
     "metadata": {},
     "output_type": "execute_result"
    }
   ],
   "source": [
    "final_flights.columns"
   ]
  },
  {
   "cell_type": "code",
   "execution_count": 23,
   "id": "76e13ef5",
   "metadata": {
    "scrolled": false
   },
   "outputs": [
    {
     "data": {
      "text/plain": [
       "<AxesSubplot:xlabel='dep_delay', ylabel='arr_delay'>"
      ]
     },
     "execution_count": 23,
     "metadata": {},
     "output_type": "execute_result"
    },
    {
     "data": {
      "image/png": "[encoded data removed]",
      "text/plain": [
       "<Figure size 432x288 with 1 Axes>"
      ]
     },
     "metadata": {
      "needs_background": "light"
     },
     "output_type": "display_data"
    }
   ],
   "source": [
    "# relationship between departure and arrival delay\n",
    "sns.scatterplot(x=final_flights.dep_delay, y=final_flights.arr_delay)"
   ]
  },
  {
   "cell_type": "code",
   "execution_count": 24,
   "id": "6c9bd9a4",
   "metadata": {
    "scrolled": false
   },
   "outputs": [
    {
     "data": {
      "text/html": [
       "<div>\n",
       "<style scoped>\n",
       "    .dataframe tbody tr th:only-of-type {\n",
       "        vertical-align: middle;\n",
       "    }\n",
       "\n",
       "    .dataframe tbody tr th {\n",
       "        vertical-align: top;\n",
       "    }\n",
       "\n",
       "    .dataframe thead th {\n",
       "        text-align: right;\n",
       "    }\n",
       "</style>\n",
       "<table border=\"1\" class=\"dataframe\">\n",
       "  <thead>\n",
       "    <tr style=\"text-align: right;\">\n",
       "      <th></th>\n",
       "      <th>fl_date</th>\n",
       "      <th>mkt_unique_carrier</th>\n",
       "      <th>mkt_carrier_fl_num</th>\n",
       "      <th>op_unique_carrier</th>\n",
       "      <th>tail_num</th>\n",
       "      <th>origin_airport_id</th>\n",
       "      <th>origin</th>\n",
       "      <th>origin_city_name</th>\n",
       "      <th>dest_airport_id</th>\n",
       "      <th>dest</th>\n",
       "      <th>...</th>\n",
       "      <th>crs_elapsed_time</th>\n",
       "      <th>actual_elapsed_time</th>\n",
       "      <th>air_time</th>\n",
       "      <th>flights</th>\n",
       "      <th>distance</th>\n",
       "      <th>carrier_delay</th>\n",
       "      <th>weather_delay</th>\n",
       "      <th>nas_delay</th>\n",
       "      <th>security_delay</th>\n",
       "      <th>late_aircraft_delay</th>\n",
       "    </tr>\n",
       "  </thead>\n",
       "  <tbody>\n",
       "    <tr>\n",
       "      <th>395725</th>\n",
       "      <td>2019-03-05</td>\n",
       "      <td>AA</td>\n",
       "      <td>284</td>\n",
       "      <td>AA</td>\n",
       "      <td>N129AA</td>\n",
       "      <td>12173</td>\n",
       "      <td>HNL</td>\n",
       "      <td>Honolulu, HI</td>\n",
       "      <td>12892</td>\n",
       "      <td>LAX</td>\n",
       "      <td>...</td>\n",
       "      <td>334.0</td>\n",
       "      <td>303.0</td>\n",
       "      <td>278.0</td>\n",
       "      <td>1.0</td>\n",
       "      <td>2556.0</td>\n",
       "      <td>1928.0</td>\n",
       "      <td>0.0</td>\n",
       "      <td>0.0</td>\n",
       "      <td>0.0</td>\n",
       "      <td>0.0</td>\n",
       "    </tr>\n",
       "  </tbody>\n",
       "</table>\n",
       "<p>1 rows × 27 columns</p>\n",
       "</div>"
      ],
      "text/plain": [
       "          fl_date mkt_unique_carrier  mkt_carrier_fl_num op_unique_carrier  \\\n",
       "395725 2019-03-05                 AA                 284                AA   \n",
       "\n",
       "       tail_num  origin_airport_id origin origin_city_name  dest_airport_id  \\\n",
       "395725   N129AA              12173    HNL     Honolulu, HI            12892   \n",
       "\n",
       "       dest  ... crs_elapsed_time  actual_elapsed_time  air_time  flights  \\\n",
       "395725  LAX  ...            334.0                303.0     278.0      1.0   \n",
       "\n",
       "        distance  carrier_delay weather_delay  nas_delay  security_delay  \\\n",
       "395725    2556.0         1928.0           0.0        0.0             0.0   \n",
       "\n",
       "        late_aircraft_delay  \n",
       "395725                  0.0  \n",
       "\n",
       "[1 rows x 27 columns]"
      ]
     },
     "execution_count": 24,
     "metadata": {},
     "output_type": "execute_result"
    }
   ],
   "source": [
    "out = final_flights[(final_flights.arr_delay>1750) & (final_flights.dep_delay>1750)]\n",
    "\n",
    "out"
   ]
  },
  {
   "cell_type": "code",
   "execution_count": 25,
   "id": "a2481e17",
   "metadata": {},
   "outputs": [
    {
     "data": {
      "text/plain": [
       "395725    Los Angeles, CA\n",
       "Name: dest_city_name, dtype: object"
      ]
     },
     "execution_count": 25,
     "metadata": {},
     "output_type": "execute_result"
    }
   ],
   "source": [
    "out.dest_city_name"
   ]
  },
  {
   "cell_type": "markdown",
   "id": "da8d92db",
   "metadata": {},
   "source": [
    "The relationship between arrival delay and departure delay is positive. As departure is delayed, the later the flight will arrive at its destination, on average. As seen in the scatterplot, one of the flights had a longer delay than the rest. The corresponding flight originates from Honolulu, with a distance of 2556 miles to its destination in Los Angeles."
   ]
  },
  {
   "cell_type": "code",
   "execution_count": null,
   "id": "384155f8",
   "metadata": {},
   "outputs": [],
   "source": []
  },
  {
   "cell_type": "code",
   "execution_count": 26,
   "id": "0b53f106",
   "metadata": {
    "scrolled": true
   },
   "outputs": [
    {
     "data": {
      "text/plain": [
       "count    381830.000000\n",
       "mean         10.027334\n",
       "std          59.226334\n",
       "min         -87.000000\n",
       "25%         -14.000000\n",
       "50%          -5.000000\n",
       "75%          12.000000\n",
       "max        1928.000000\n",
       "Name: arr_delay, dtype: float64"
      ]
     },
     "execution_count": 26,
     "metadata": {},
     "output_type": "execute_result"
    }
   ],
   "source": [
    "final_flights[\"arr_delay\"].describe()"
   ]
  },
  {
   "cell_type": "code",
   "execution_count": 27,
   "id": "a79aaf63",
   "metadata": {
    "scrolled": false
   },
   "outputs": [
    {
     "data": {
      "text/plain": [
       "<AxesSubplot:xlabel='arr_delay', ylabel='Count'>"
      ]
     },
     "execution_count": 27,
     "metadata": {},
     "output_type": "execute_result"
    },
    {
     "data": {
      "image/png": "[encoded data removed]",
      "text/plain": [
       "<Figure size 432x288 with 1 Axes>"
      ]
     },
     "metadata": {
      "needs_background": "light"
     },
     "output_type": "display_data"
    }
   ],
   "source": [
    "sns.histplot(final_flights.arr_delay)\n",
    "# plt.xlim(-100, 200)"
   ]
  },
  {
   "cell_type": "markdown",
   "id": "2378f76d",
   "metadata": {},
   "source": [
    "The distribution of arr_delay is skewed right with a mean of around 10 and a standard deviation around 59.2."
   ]
  },
  {
   "cell_type": "code",
   "execution_count": 28,
   "id": "744c637f",
   "metadata": {
    "scrolled": true
   },
   "outputs": [
    {
     "name": "stdout",
     "output_type": "stream",
     "text": [
      "At the 0.05 significance level, there is insufficient evidence to suggest that the arrival delay is from the normal distribution.\n"
     ]
    }
   ],
   "source": [
    "from scipy import stats\n",
    "\n",
    "# test if arr_delay is from the normal distribution\n",
    "alpha = 0.05\n",
    "data = final_flights.arr_delay\n",
    "norm_test = stats.normaltest(data)\n",
    "\n",
    "if norm_test.pvalue < alpha:\n",
    "    print(f\"At the {alpha} significance level, there is insufficient \" \n",
    "          \"evidence to suggest that the arrival delay is from the normal distribution.\")\n",
    "else:\n",
    "    print(f\"At the {alpha} significance level, there is sufficient evidence to suggest that, \"\n",
    "          \"the arrival delay is from the normal distribution.\")"
   ]
  },
  {
   "cell_type": "code",
   "execution_count": 29,
   "id": "ae98cbd2",
   "metadata": {
    "scrolled": false
   },
   "outputs": [
    {
     "data": {
      "image/png": "[encoded data removed]",
      "text/plain": [
       "<Figure size 720x432 with 1 Axes>"
      ]
     },
     "metadata": {
      "needs_background": "light"
     },
     "output_type": "display_data"
    }
   ],
   "source": [
    "# comparing arrival delays by airline\n",
    "arr_delay_df = final_flights[[\"fl_date\", \"mkt_unique_carrier\", \"arr_delay\"]]\n",
    "avg_delay = arr_delay_df.groupby(\"mkt_unique_carrier\").mean().reset_index()\n",
    "\n",
    "\n",
    "fig, ax = plt.subplots(figsize=(10,6))\n",
    "\n",
    "sns.barplot(x=\"arr_delay\", y=\"mkt_unique_carrier\", data=avg_delay)\n",
    "ax.grid(linestyle=\"--\")\n",
    "ax.set_title(\"Average Arrival Delays by Airline\", fontsize=18)\n",
    "ax.set_ylabel(\"Airline\")\n",
    "ax.set_xlabel(\"Mean arrival delay (min)\")\n",
    "\n",
    "plt.show()"
   ]
  },
  {
   "cell_type": "markdown",
   "id": "887d1413",
   "metadata": {},
   "source": [
    "#### Monthly Arrival Delay"
   ]
  },
  {
   "cell_type": "code",
   "execution_count": 30,
   "id": "ab627c79",
   "metadata": {
    "collapsed": true
   },
   "outputs": [
    {
     "name": "stderr",
     "output_type": "stream",
     "text": [
      "C:\\Users\\vanessa\\AppData\\Local\\Temp\\ipykernel_9120\\4162549207.py:2: SettingWithCopyWarning: \n",
      "A value is trying to be set on a copy of a slice from a DataFrame.\n",
      "Try using .loc[row_indexer,col_indexer] = value instead\n",
      "\n",
      "See the caveats in the documentation: https://pandas.pydata.org/pandas-docs/stable/user_guide/indexing.html#returning-a-view-versus-a-copy\n",
      "  arr_delay_df[\"day\"] = arr_delay_df.loc[:, \"fl_date\"].dt.day\n",
      "C:\\Users\\vanessa\\AppData\\Local\\Temp\\ipykernel_9120\\4162549207.py:3: SettingWithCopyWarning: \n",
      "A value is trying to be set on a copy of a slice from a DataFrame.\n",
      "Try using .loc[row_indexer,col_indexer] = value instead\n",
      "\n",
      "See the caveats in the documentation: https://pandas.pydata.org/pandas-docs/stable/user_guide/indexing.html#returning-a-view-versus-a-copy\n",
      "  arr_delay_df[\"month\"] = arr_delay_df.loc[:, \"fl_date\"].dt.month\n",
      "C:\\Users\\vanessa\\AppData\\Local\\Temp\\ipykernel_9120\\4162549207.py:4: SettingWithCopyWarning: \n",
      "A value is trying to be set on a copy of a slice from a DataFrame.\n",
      "Try using .loc[row_indexer,col_indexer] = value instead\n",
      "\n",
      "See the caveats in the documentation: https://pandas.pydata.org/pandas-docs/stable/user_guide/indexing.html#returning-a-view-versus-a-copy\n",
      "  arr_delay_df[\"year\"] = arr_delay_df[\"fl_date\"].dt.year\n"
     ]
    }
   ],
   "source": [
    "# monthly arrival delay\n",
    "arr_delay_df[\"day\"] = arr_delay_df.loc[:, \"fl_date\"].dt.day\n",
    "arr_delay_df[\"month\"] = arr_delay_df.loc[:, \"fl_date\"].dt.month\n",
    "arr_delay_df[\"year\"] = arr_delay_df[\"fl_date\"].dt.year"
   ]
  },
  {
   "cell_type": "code",
   "execution_count": 31,
   "id": "59af4529",
   "metadata": {
    "scrolled": true
   },
   "outputs": [
    {
     "data": {
      "text/plain": [
       "array([1, 4, 3], dtype=int64)"
      ]
     },
     "execution_count": 31,
     "metadata": {},
     "output_type": "execute_result"
    }
   ],
   "source": [
    "arr_delay_df.month.unique()"
   ]
  },
  {
   "cell_type": "code",
   "execution_count": 32,
   "id": "6429f12f",
   "metadata": {
    "scrolled": true
   },
   "outputs": [
    {
     "data": {
      "text/html": [
       "<div>\n",
       "<style scoped>\n",
       "    .dataframe tbody tr th:only-of-type {\n",
       "        vertical-align: middle;\n",
       "    }\n",
       "\n",
       "    .dataframe tbody tr th {\n",
       "        vertical-align: top;\n",
       "    }\n",
       "\n",
       "    .dataframe thead th {\n",
       "        text-align: right;\n",
       "    }\n",
       "</style>\n",
       "<table border=\"1\" class=\"dataframe\">\n",
       "  <thead>\n",
       "    <tr style=\"text-align: right;\">\n",
       "      <th></th>\n",
       "      <th>month</th>\n",
       "      <th>arr_delay</th>\n",
       "      <th>day</th>\n",
       "      <th>year</th>\n",
       "    </tr>\n",
       "  </thead>\n",
       "  <tbody>\n",
       "    <tr>\n",
       "      <th>0</th>\n",
       "      <td>1</td>\n",
       "      <td>9.118168</td>\n",
       "      <td>24.883402</td>\n",
       "      <td>2019.0</td>\n",
       "    </tr>\n",
       "    <tr>\n",
       "      <th>1</th>\n",
       "      <td>3</td>\n",
       "      <td>11.763536</td>\n",
       "      <td>2.985143</td>\n",
       "      <td>2019.0</td>\n",
       "    </tr>\n",
       "    <tr>\n",
       "      <th>2</th>\n",
       "      <td>4</td>\n",
       "      <td>12.480273</td>\n",
       "      <td>1.000000</td>\n",
       "      <td>2019.0</td>\n",
       "    </tr>\n",
       "  </tbody>\n",
       "</table>\n",
       "</div>"
      ],
      "text/plain": [
       "   month  arr_delay        day    year\n",
       "0      1   9.118168  24.883402  2019.0\n",
       "1      3  11.763536   2.985143  2019.0\n",
       "2      4  12.480273   1.000000  2019.0"
      ]
     },
     "execution_count": 32,
     "metadata": {},
     "output_type": "execute_result"
    }
   ],
   "source": [
    "monthly_delay = arr_delay_df.groupby([\"month\"]).mean().sort_values(by=\"month\").reset_index()\n",
    "monthly_delay"
   ]
  },
  {
   "cell_type": "code",
   "execution_count": 33,
   "id": "734cbfa7",
   "metadata": {},
   "outputs": [
    {
     "data": {
      "image/png": "[encoded data removed]",
      "text/plain": [
       "<Figure size 720x432 with 1 Axes>"
      ]
     },
     "metadata": {
      "needs_background": "light"
     },
     "output_type": "display_data"
    }
   ],
   "source": [
    "fig, ax = plt.subplots(figsize=(10,6))\n",
    "\n",
    "sns.barplot(x=\"month\", y=\"arr_delay\", data=monthly_delay)\n",
    "ax.grid(linestyle=\"--\")\n",
    "ax.set_title(\"Average Monthly Arrival Delays (2019)\", fontsize=18)\n",
    "ax.set_ylabel(\"Delay (min)\")\n",
    "ax.set_xlabel(\"Month\")\n",
    "\n",
    "plt.show()"
   ]
  },
  {
   "cell_type": "markdown",
   "id": "be619b1f",
   "metadata": {},
   "source": [
    "#### More cleaning"
   ]
  },
  {
   "cell_type": "code",
   "execution_count": 34,
   "id": "314d2fc3",
   "metadata": {},
   "outputs": [],
   "source": [
    "flights_clean = final_flights.copy()"
   ]
  },
  {
   "cell_type": "code",
   "execution_count": 35,
   "id": "209964b9",
   "metadata": {
    "scrolled": false
   },
   "outputs": [],
   "source": [
    "flights_clean.drop([\"carrier_delay\", \"weather_delay\", \"nas_delay\", \"security_delay\", \"late_aircraft_delay\"], axis=1, inplace=True)"
   ]
  },
  {
   "cell_type": "code",
   "execution_count": 36,
   "id": "5604c4cd",
   "metadata": {},
   "outputs": [],
   "source": [
    "# separate dates into columns\n",
    "flights_clean[\"day\"] = flights_clean.loc[:, \"fl_date\"].dt.day\n",
    "flights_clean[\"month\"] = flights_clean.loc[:, \"fl_date\"].dt.month\n",
    "flights_clean[\"year\"] = flights_clean[\"fl_date\"].dt.year"
   ]
  },
  {
   "cell_type": "code",
   "execution_count": 37,
   "id": "6a2e0173",
   "metadata": {},
   "outputs": [],
   "source": [
    "flights_clean.to_csv(\"./data/flights_clean.csv\", index=False)"
   ]
  },
  {
   "cell_type": "code",
   "execution_count": null,
   "id": "230423cc",
   "metadata": {},
   "outputs": [],
   "source": []
  }
 ],
 "metadata": {
  "kernelspec": {
   "display_name": "test_env",
   "language": "python",
   "name": "test_env"
  },
  "language_info": {
   "codemirror_mode": {
    "name": "ipython",
    "version": 3
   },
   "file_extension": ".py",
   "mimetype": "text/x-python",
   "name": "python",
   "nbconvert_exporter": "python",
   "pygments_lexer": "ipython3",
   "version": "3.9.12"
  }
 },
 "nbformat": 4,
 "nbformat_minor": 5
}
