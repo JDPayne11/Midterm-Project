{
 "cells": [
  {
   "cell_type": "markdown",
   "id": "9c667004",
   "metadata": {},
   "source": [
    "### Modeling with Frequencies"
   ]
  },
  {
   "cell_type": "code",
   "execution_count": 1,
   "id": "6d1c344a",
   "metadata": {},
   "outputs": [],
   "source": [
    "import numpy as np\n",
    "import pandas as pd\n",
    "import matplotlib.pyplot as plt\n",
    "import seaborn as sns\n",
    "\n",
    "from project_functions import regression_metrics, scale_features\n",
    "\n",
    "from sklearn.preprocessing import StandardScaler\n",
    "from sklearn.model_selection import train_test_split\n",
    "from sklearn.linear_model import LinearRegression\n",
    "# from sklearn.linear_model import LogisticRegression\n",
    "from sklearn.ensemble import RandomForestRegressor\n",
    "from sklearn.naive_bayes import GaussianNB\n",
    "from sklearn import svm\n",
    "from sklearn import metrics\n",
    "from sklearn.metrics import (log_loss,\n",
    "                            roc_auc_score, \n",
    "                            recall_score, \n",
    "                            precision_score, \n",
    "                            average_precision_score, \n",
    "                            f1_score, classification_report, \n",
    "                            accuracy_score, plot_roc_curve, \n",
    "                            plot_precision_recall_curve, \n",
    "                            plot_confusion_matrix\n",
    "                        )"
   ]
  },
  {
   "cell_type": "code",
   "execution_count": 2,
   "id": "399fe297",
   "metadata": {
    "scrolled": true
   },
   "outputs": [],
   "source": [
    "freq_flights = pd.read_csv(\"Features_with_frequencies.csv\")"
   ]
  },
  {
   "cell_type": "code",
   "execution_count": 3,
   "id": "f91555aa",
   "metadata": {
    "scrolled": true
   },
   "outputs": [
    {
     "data": {
      "text/html": [
       "<div>\n",
       "<style scoped>\n",
       "    .dataframe tbody tr th:only-of-type {\n",
       "        vertical-align: middle;\n",
       "    }\n",
       "\n",
       "    .dataframe tbody tr th {\n",
       "        vertical-align: top;\n",
       "    }\n",
       "\n",
       "    .dataframe thead th {\n",
       "        text-align: right;\n",
       "    }\n",
       "</style>\n",
       "<table border=\"1\" class=\"dataframe\">\n",
       "  <thead>\n",
       "    <tr style=\"text-align: right;\">\n",
       "      <th></th>\n",
       "      <th>Unnamed: 0</th>\n",
       "      <th>fl_date</th>\n",
       "      <th>crs_dep_time</th>\n",
       "      <th>dep_time</th>\n",
       "      <th>dep_delay</th>\n",
       "      <th>taxi_out</th>\n",
       "      <th>wheels_off</th>\n",
       "      <th>wheels_on</th>\n",
       "      <th>taxi_in</th>\n",
       "      <th>crs_arr_time</th>\n",
       "      <th>...</th>\n",
       "      <th>destination_id_frequency</th>\n",
       "      <th>origin_id_frequency</th>\n",
       "      <th>mkt_frequency</th>\n",
       "      <th>branded_frequency</th>\n",
       "      <th>op_frequency</th>\n",
       "      <th>flight_num_frequency</th>\n",
       "      <th>Cloudy</th>\n",
       "      <th>Rainy</th>\n",
       "      <th>Snowy</th>\n",
       "      <th>Sunny</th>\n",
       "    </tr>\n",
       "  </thead>\n",
       "  <tbody>\n",
       "    <tr>\n",
       "      <th>0</th>\n",
       "      <td>0</td>\n",
       "      <td>2018-12-01</td>\n",
       "      <td>1229</td>\n",
       "      <td>1337.0</td>\n",
       "      <td>68.0</td>\n",
       "      <td>12.0</td>\n",
       "      <td>1349.0</td>\n",
       "      <td>1452.0</td>\n",
       "      <td>9.0</td>\n",
       "      <td>1355</td>\n",
       "      <td>...</td>\n",
       "      <td>0.037064</td>\n",
       "      <td>0.003389</td>\n",
       "      <td>0.269857</td>\n",
       "      <td>0.147168</td>\n",
       "      <td>0.030035</td>\n",
       "      <td>0.000132</td>\n",
       "      <td>0</td>\n",
       "      <td>1</td>\n",
       "      <td>0</td>\n",
       "      <td>0</td>\n",
       "    </tr>\n",
       "    <tr>\n",
       "      <th>1</th>\n",
       "      <td>1</td>\n",
       "      <td>2018-12-01</td>\n",
       "      <td>1945</td>\n",
       "      <td>1941.0</td>\n",
       "      <td>-4.0</td>\n",
       "      <td>15.0</td>\n",
       "      <td>1956.0</td>\n",
       "      <td>2209.0</td>\n",
       "      <td>6.0</td>\n",
       "      <td>2244</td>\n",
       "      <td>...</td>\n",
       "      <td>0.022009</td>\n",
       "      <td>0.019777</td>\n",
       "      <td>0.025626</td>\n",
       "      <td>0.025626</td>\n",
       "      <td>0.025626</td>\n",
       "      <td>0.000269</td>\n",
       "      <td>1</td>\n",
       "      <td>0</td>\n",
       "      <td>0</td>\n",
       "      <td>0</td>\n",
       "    </tr>\n",
       "    <tr>\n",
       "      <th>2</th>\n",
       "      <td>2</td>\n",
       "      <td>2018-12-01</td>\n",
       "      <td>1110</td>\n",
       "      <td>1107.0</td>\n",
       "      <td>-3.0</td>\n",
       "      <td>32.0</td>\n",
       "      <td>1139.0</td>\n",
       "      <td>1844.0</td>\n",
       "      <td>12.0</td>\n",
       "      <td>1855</td>\n",
       "      <td>...</td>\n",
       "      <td>0.019954</td>\n",
       "      <td>0.022224</td>\n",
       "      <td>0.025626</td>\n",
       "      <td>0.025626</td>\n",
       "      <td>0.025626</td>\n",
       "      <td>0.000380</td>\n",
       "      <td>0</td>\n",
       "      <td>0</td>\n",
       "      <td>0</td>\n",
       "      <td>1</td>\n",
       "    </tr>\n",
       "    <tr>\n",
       "      <th>3</th>\n",
       "      <td>3</td>\n",
       "      <td>2018-12-01</td>\n",
       "      <td>1739</td>\n",
       "      <td>1736.0</td>\n",
       "      <td>-3.0</td>\n",
       "      <td>11.0</td>\n",
       "      <td>1747.0</td>\n",
       "      <td>1911.0</td>\n",
       "      <td>4.0</td>\n",
       "      <td>1930</td>\n",
       "      <td>...</td>\n",
       "      <td>0.014786</td>\n",
       "      <td>0.048256</td>\n",
       "      <td>0.025626</td>\n",
       "      <td>0.025626</td>\n",
       "      <td>0.025626</td>\n",
       "      <td>0.000345</td>\n",
       "      <td>0</td>\n",
       "      <td>1</td>\n",
       "      <td>0</td>\n",
       "      <td>0</td>\n",
       "    </tr>\n",
       "    <tr>\n",
       "      <th>4</th>\n",
       "      <td>4</td>\n",
       "      <td>2018-12-01</td>\n",
       "      <td>930</td>\n",
       "      <td>926.0</td>\n",
       "      <td>-4.0</td>\n",
       "      <td>12.0</td>\n",
       "      <td>938.0</td>\n",
       "      <td>1607.0</td>\n",
       "      <td>7.0</td>\n",
       "      <td>1649</td>\n",
       "      <td>...</td>\n",
       "      <td>0.048839</td>\n",
       "      <td>0.030977</td>\n",
       "      <td>0.025626</td>\n",
       "      <td>0.025626</td>\n",
       "      <td>0.025626</td>\n",
       "      <td>0.000345</td>\n",
       "      <td>0</td>\n",
       "      <td>1</td>\n",
       "      <td>0</td>\n",
       "      <td>0</td>\n",
       "    </tr>\n",
       "  </tbody>\n",
       "</table>\n",
       "<p>5 rows × 27 columns</p>\n",
       "</div>"
      ],
      "text/plain": [
       "   Unnamed: 0     fl_date  crs_dep_time  dep_time  dep_delay  taxi_out  \\\n",
       "0           0  2018-12-01          1229    1337.0       68.0      12.0   \n",
       "1           1  2018-12-01          1945    1941.0       -4.0      15.0   \n",
       "2           2  2018-12-01          1110    1107.0       -3.0      32.0   \n",
       "3           3  2018-12-01          1739    1736.0       -3.0      11.0   \n",
       "4           4  2018-12-01           930     926.0       -4.0      12.0   \n",
       "\n",
       "   wheels_off  wheels_on  taxi_in  crs_arr_time  ...  \\\n",
       "0      1349.0     1452.0      9.0          1355  ...   \n",
       "1      1956.0     2209.0      6.0          2244  ...   \n",
       "2      1139.0     1844.0     12.0          1855  ...   \n",
       "3      1747.0     1911.0      4.0          1930  ...   \n",
       "4       938.0     1607.0      7.0          1649  ...   \n",
       "\n",
       "   destination_id_frequency  origin_id_frequency  mkt_frequency  \\\n",
       "0                  0.037064             0.003389       0.269857   \n",
       "1                  0.022009             0.019777       0.025626   \n",
       "2                  0.019954             0.022224       0.025626   \n",
       "3                  0.014786             0.048256       0.025626   \n",
       "4                  0.048839             0.030977       0.025626   \n",
       "\n",
       "   branded_frequency  op_frequency  flight_num_frequency  Cloudy  Rainy  \\\n",
       "0           0.147168      0.030035              0.000132       0      1   \n",
       "1           0.025626      0.025626              0.000269       1      0   \n",
       "2           0.025626      0.025626              0.000380       0      0   \n",
       "3           0.025626      0.025626              0.000345       0      1   \n",
       "4           0.025626      0.025626              0.000345       0      1   \n",
       "\n",
       "   Snowy  Sunny  \n",
       "0      0      0  \n",
       "1      0      0  \n",
       "2      0      1  \n",
       "3      0      0  \n",
       "4      0      0  \n",
       "\n",
       "[5 rows x 27 columns]"
      ]
     },
     "execution_count": 3,
     "metadata": {},
     "output_type": "execute_result"
    }
   ],
   "source": [
    "freq_flights.head()"
   ]
  },
  {
   "cell_type": "code",
   "execution_count": 4,
   "id": "d170fab7",
   "metadata": {},
   "outputs": [],
   "source": [
    "freq_flights.drop('Unnamed: 0', axis=1, inplace=True)"
   ]
  },
  {
   "cell_type": "code",
   "execution_count": 5,
   "id": "397b3ce9",
   "metadata": {},
   "outputs": [],
   "source": [
    "# not using fl_date\n",
    "freq_flights.drop(['dep_delay', 'fl_date'], axis=1, inplace=True)"
   ]
  },
  {
   "cell_type": "code",
   "execution_count": 6,
   "id": "8d8d61c8",
   "metadata": {},
   "outputs": [],
   "source": [
    "categoric = ['diverted', 'Cloudy', 'Rainy', 'Snowy', 'Sunny']\n",
    "numeric = list(set(freq_flights.columns) - set(categoric))"
   ]
  },
  {
   "cell_type": "code",
   "execution_count": 7,
   "id": "9dd36d60",
   "metadata": {},
   "outputs": [
    {
     "data": {
      "image/png": "[encoded data removed]",
      "text/plain": [
       "<Figure size 864x648 with 2 Axes>"
      ]
     },
     "metadata": {
      "needs_background": "light"
     },
     "output_type": "display_data"
    }
   ],
   "source": [
    "# check most correlated numeric variables with arr_delay\n",
    "corrmat = freq_flights[numeric].corr()\n",
    "f, ax = plt.subplots(figsize=(12, 9))\n",
    "sns.heatmap(corrmat, vmax=.8, square=True,cmap=\"RdYlGn_r\")\n",
    "\n",
    "plt.show()"
   ]
  },
  {
   "cell_type": "code",
   "execution_count": 8,
   "id": "a164d9b5",
   "metadata": {},
   "outputs": [],
   "source": [
    "numeric.remove('arr_delay')"
   ]
  },
  {
   "cell_type": "markdown",
   "id": "268c5905",
   "metadata": {},
   "source": [
    "# Modeling"
   ]
  },
  {
   "cell_type": "code",
   "execution_count": 9,
   "id": "2cc3fd05",
   "metadata": {},
   "outputs": [],
   "source": [
    "# separate target and predictors\n",
    "y = freq_flights['arr_delay']\n",
    "X = freq_flights.drop('arr_delay', axis=1)"
   ]
  },
  {
   "cell_type": "code",
   "execution_count": 10,
   "id": "fed4f1b0",
   "metadata": {},
   "outputs": [],
   "source": [
    "seed = 100\n",
    "\n",
    "X_train, X_test, y_train, y_test = train_test_split(X, y, test_size=0.3, random_state=seed)"
   ]
  },
  {
   "cell_type": "code",
   "execution_count": 11,
   "id": "e4198259",
   "metadata": {},
   "outputs": [],
   "source": [
    "scaler = StandardScaler()\n",
    "\n",
    "X_train_scaled, X_test_scaled = scale_features(X_train, X_test, numeric, categoric, scaler)"
   ]
  },
  {
   "cell_type": "markdown",
   "id": "16158094",
   "metadata": {},
   "source": [
    "#### Linear Regression"
   ]
  },
  {
   "cell_type": "code",
   "execution_count": 12,
   "id": "e826b637",
   "metadata": {},
   "outputs": [],
   "source": [
    "line_reg = LinearRegression()\n",
    "\n",
    "line_reg.fit(X_train_scaled, y_train)\n",
    "\n",
    "yhat_line = line_reg.predict(X_test_scaled)"
   ]
  },
  {
   "cell_type": "code",
   "execution_count": 13,
   "id": "20bae9ab",
   "metadata": {},
   "outputs": [
    {
     "name": "stdout",
     "output_type": "stream",
     "text": [
      "R^2: 0.18450019569535914\n",
      "Mean Squared Error: 1636.2871866071116\n",
      "Mean Absolute Error: 17.905996017475704\n",
      "Root MSE: 40.451046792476355\n"
     ]
    }
   ],
   "source": [
    "regression_metrics(y_test, yhat_line)"
   ]
  },
  {
   "cell_type": "markdown",
   "id": "877b4035",
   "metadata": {},
   "source": [
    "#### Random Forest"
   ]
  },
  {
   "cell_type": "code",
   "execution_count": 14,
   "id": "be67ce33",
   "metadata": {},
   "outputs": [],
   "source": [
    "rfc = RandomForestRegressor(n_estimators=10, max_depth=8, random_state=seed)\n",
    "\n",
    "rfc.fit(X_train_scaled, y_train)\n",
    "\n",
    "yhat_rfc = rfc.predict(X_test_scaled)"
   ]
  },
  {
   "cell_type": "code",
   "execution_count": 15,
   "id": "afc9f3a1",
   "metadata": {},
   "outputs": [
    {
     "name": "stdout",
     "output_type": "stream",
     "text": [
      "R^2: 0.6453920159942121\n",
      "Mean Squared Error: 711.5151928111238\n",
      "Mean Absolute Error: 16.06027566330537\n",
      "Root MSE: 26.67424212252569\n"
     ]
    }
   ],
   "source": [
    "regression_metrics(y_test, yhat_rfc)"
   ]
  },
  {
   "cell_type": "markdown",
   "id": "c720eb4b",
   "metadata": {},
   "source": [
    "#### Naive Bayes"
   ]
  },
  {
   "cell_type": "code",
   "execution_count": 16,
   "id": "220a4349",
   "metadata": {},
   "outputs": [],
   "source": [
    "gauss = GaussianNB()\n",
    "\n",
    "gauss.fit(X_train_scaled, y_train) \n",
    "\n",
    "yhat_nb = gauss.predict(X_test_scaled)"
   ]
  },
  {
   "cell_type": "code",
   "execution_count": 17,
   "id": "497b2886",
   "metadata": {
    "scrolled": true
   },
   "outputs": [
    {
     "name": "stdout",
     "output_type": "stream",
     "text": [
      "R^2: -136.71416429426012\n",
      "Mean Squared Error: 276321.24650372774\n",
      "Mean Absolute Error: 489.6766931425031\n",
      "Root MSE: 525.6626736831594\n"
     ]
    }
   ],
   "source": [
    "regression_metrics(y_test, yhat_nb)"
   ]
  },
  {
   "cell_type": "code",
   "execution_count": null,
   "id": "26316f86",
   "metadata": {},
   "outputs": [],
   "source": []
  },
  {
   "cell_type": "markdown",
   "id": "ff5277a8",
   "metadata": {},
   "source": [
    "# Submission\n",
    "We will be using the Random Forest Regressor to predict the arrival delay because it has consistently performed the best. First, let's do a little prep on the test data."
   ]
  },
  {
   "cell_type": "code",
   "execution_count": 18,
   "id": "32d677b5",
   "metadata": {},
   "outputs": [],
   "source": [
    "# load and apply engineered features to the test data we are trying to predict \n",
    "import pandas as pd\n",
    "test_df = pd.read_csv('Johns work/csv_file/Test_dataframe.csv')\n",
    "dest_airport_freq = test_df.groupby('dest_airport_id').size()/len(test_df)\n",
    "test_df.loc[:, 'destination_id_frequency'] = test_df['dest_airport_id'].map(dest_airport_freq)\n",
    "\n",
    "def make_frequency(Feature, New_Feature):\n",
    "    '''\n",
    "    This function takes in the name of the column you want to use and the name of the column you want to create\n",
    "    This function returns a new column with frequencies encoded as categories\n",
    "    '''\n",
    "    frequency = test_df.groupby(Feature).size()/len(test_df)\n",
    "    test_df.loc[:, New_Feature] = test_df[Feature].map(frequency)\n",
    "     \n",
    "    return\n",
    "\n",
    "make_frequency('dest_airport_id', 'destination_id_frequency')\n",
    "make_frequency('origin_airport_id', 'origin_id_frequency')\n",
    "make_frequency('mkt_unique_carrier', 'mkt_frequency')\n",
    "make_frequency('branded_code_share', 'branded_frequency')\n",
    "make_frequency('op_unique_carrier', 'op_frequency')\n",
    "make_frequency('op_carrier_fl_num', 'flight_num_frequency')\n",
    "\n",
    "originals = ['dest_airport_id', 'origin_airport_id', 'mkt_unique_carrier', 'branded_code_share', 'op_unique_carrier', 'op_carrier_fl_num']\n",
    "test_df = test_df.drop(originals, axis = 1)"
   ]
  },
  {
   "cell_type": "code",
   "execution_count": 19,
   "id": "b36256e4",
   "metadata": {},
   "outputs": [],
   "source": [
    "# test_df.head()"
   ]
  },
  {
   "cell_type": "code",
   "execution_count": 20,
   "id": "3dd720c2",
   "metadata": {},
   "outputs": [
    {
     "data": {
      "text/plain": [
       "['fl_date',\n",
       " 'mkt_carrier',\n",
       " 'mkt_carrier_fl_num',\n",
       " 'tail_num',\n",
       " 'origin',\n",
       " 'origin_city_name',\n",
       " 'dest',\n",
       " 'dest_city_name',\n",
       " 'crs_dep_time',\n",
       " 'crs_arr_time',\n",
       " 'dup',\n",
       " 'crs_elapsed_time',\n",
       " 'flights',\n",
       " 'distance',\n",
       " 'destination_id_frequency',\n",
       " 'origin_id_frequency',\n",
       " 'mkt_frequency',\n",
       " 'branded_frequency',\n",
       " 'op_frequency',\n",
       " 'flight_num_frequency']"
      ]
     },
     "execution_count": 20,
     "metadata": {},
     "output_type": "execute_result"
    }
   ],
   "source": [
    "test_df.columns.tolist()"
   ]
  },
  {
   "cell_type": "code",
   "execution_count": 21,
   "id": "7fcef715",
   "metadata": {},
   "outputs": [
    {
     "data": {
      "text/plain": [
       "Index(['dest', 'dest_city_name', 'dup', 'fl_date', 'flights', 'mkt_carrier',\n",
       "       'mkt_carrier_fl_num', 'origin', 'origin_city_name', 'tail_num'],\n",
       "      dtype='object')"
      ]
     },
     "execution_count": 21,
     "metadata": {},
     "output_type": "execute_result"
    }
   ],
   "source": [
    "# columns that weren't used in our dataframe but needed for submission\n",
    "not_for_test = (test_df.columns).difference(freq_flights.columns)\n",
    "\n",
    "not_for_test"
   ]
  },
  {
   "cell_type": "code",
   "execution_count": 23,
   "id": "7a0b2594",
   "metadata": {},
   "outputs": [
    {
     "data": {
      "text/plain": [
       "['crs_dep_time',\n",
       " 'flight_num_frequency',\n",
       " 'branded_frequency',\n",
       " 'op_frequency',\n",
       " 'destination_id_frequency',\n",
       " 'distance',\n",
       " 'origin_id_frequency',\n",
       " 'crs_arr_time',\n",
       " 'mkt_frequency',\n",
       " 'crs_elapsed_time']"
      ]
     },
     "execution_count": 23,
     "metadata": {},
     "output_type": "execute_result"
    }
   ],
   "source": [
    "# columns that are in test_df AND freq_flights\n",
    "# retrieving remaining columns from test_df\n",
    "for_test = list(set(test_df.columns) - set(test_df[not_for_test]))\n",
    "\n",
    "for_test"
   ]
  },
  {
   "cell_type": "code",
   "execution_count": 24,
   "id": "7673de75",
   "metadata": {},
   "outputs": [],
   "source": [
    "# columns that we can't use\n",
    "# taking out weather conditions because we don't have the weather for the test data\n",
    "rm_from_flights = ['dep_time', \n",
    "                   'taxi_out', \n",
    "                   'wheels_off', \n",
    "                   'wheels_on',\n",
    "                   'taxi_in',\n",
    "                   'arr_time',\n",
    "                   'arr_delay',\n",
    "                   'diverted',\n",
    "                   'actual_elapsed_time',\n",
    "                   'air_time',\n",
    "                   'Rainy', \n",
    "                   'Snowy', \n",
    "                   'Sunny',\n",
    "                   'Cloudy']"
   ]
  },
  {
   "cell_type": "code",
   "execution_count": 25,
   "id": "8b1da1cd",
   "metadata": {},
   "outputs": [],
   "source": [
    "# remove unusable columns from freq_flights\n",
    "freq_flights_new = freq_flights.drop(rm_from_flights, axis=1)"
   ]
  },
  {
   "cell_type": "code",
   "execution_count": 26,
   "id": "f1168081",
   "metadata": {
    "scrolled": true
   },
   "outputs": [
    {
     "data": {
      "text/plain": [
       "True"
      ]
     },
     "execution_count": 26,
     "metadata": {},
     "output_type": "execute_result"
    }
   ],
   "source": [
    "sorted(for_test) == sorted(freq_flights_new.columns.tolist())"
   ]
  },
  {
   "cell_type": "markdown",
   "id": "c3c4b913",
   "metadata": {},
   "source": [
    "Now that the columns match, we will retrain the model and predict the arrival delays for the first week of January 2020!"
   ]
  },
  {
   "cell_type": "code",
   "execution_count": 27,
   "id": "b69cbbac",
   "metadata": {},
   "outputs": [],
   "source": [
    "# columns need to be in the same order\n",
    "sorted_flights_cols = sorted(freq_flights_new.columns.tolist())\n",
    "\n",
    "freq_flights_new = freq_flights_new[sorted_flights_cols]\n",
    "for_test = sorted(for_test)"
   ]
  },
  {
   "cell_type": "code",
   "execution_count": 28,
   "id": "4a292253",
   "metadata": {},
   "outputs": [],
   "source": [
    "# scale both datasets\n",
    "scaler = StandardScaler()\n",
    "\n",
    "scaler.fit_transform(freq_flights_new)\n",
    "\n",
    "test_df_scaled = scaler.transform(test_df[for_test])"
   ]
  },
  {
   "cell_type": "code",
   "execution_count": 29,
   "id": "9928a814",
   "metadata": {},
   "outputs": [
    {
     "data": {
      "text/html": [
       "<style>#sk-container-id-1 {color: black;background-color: white;}#sk-container-id-1 pre{padding: 0;}#sk-container-id-1 div.sk-toggleable {background-color: white;}#sk-container-id-1 label.sk-toggleable__label {cursor: pointer;display: block;width: 100%;margin-bottom: 0;padding: 0.3em;box-sizing: border-box;text-align: center;}#sk-container-id-1 label.sk-toggleable__label-arrow:before {content: \"▸\";float: left;margin-right: 0.25em;color: #696969;}#sk-container-id-1 label.sk-toggleable__label-arrow:hover:before {color: black;}#sk-container-id-1 div.sk-estimator:hover label.sk-toggleable__label-arrow:before {color: black;}#sk-container-id-1 div.sk-toggleable__content {max-height: 0;max-width: 0;overflow: hidden;text-align: left;background-color: #f0f8ff;}#sk-container-id-1 div.sk-toggleable__content pre {margin: 0.2em;color: black;border-radius: 0.25em;background-color: #f0f8ff;}#sk-container-id-1 input.sk-toggleable__control:checked~div.sk-toggleable__content {max-height: 200px;max-width: 100%;overflow: auto;}#sk-container-id-1 input.sk-toggleable__control:checked~label.sk-toggleable__label-arrow:before {content: \"▾\";}#sk-container-id-1 div.sk-estimator input.sk-toggleable__control:checked~label.sk-toggleable__label {background-color: #d4ebff;}#sk-container-id-1 div.sk-label input.sk-toggleable__control:checked~label.sk-toggleable__label {background-color: #d4ebff;}#sk-container-id-1 input.sk-hidden--visually {border: 0;clip: rect(1px 1px 1px 1px);clip: rect(1px, 1px, 1px, 1px);height: 1px;margin: -1px;overflow: hidden;padding: 0;position: absolute;width: 1px;}#sk-container-id-1 div.sk-estimator {font-family: monospace;background-color: #f0f8ff;border: 1px dotted black;border-radius: 0.25em;box-sizing: border-box;margin-bottom: 0.5em;}#sk-container-id-1 div.sk-estimator:hover {background-color: #d4ebff;}#sk-container-id-1 div.sk-parallel-item::after {content: \"\";width: 100%;border-bottom: 1px solid gray;flex-grow: 1;}#sk-container-id-1 div.sk-label:hover label.sk-toggleable__label {background-color: #d4ebff;}#sk-container-id-1 div.sk-serial::before {content: \"\";position: absolute;border-left: 1px solid gray;box-sizing: border-box;top: 0;bottom: 0;left: 50%;z-index: 0;}#sk-container-id-1 div.sk-serial {display: flex;flex-direction: column;align-items: center;background-color: white;padding-right: 0.2em;padding-left: 0.2em;position: relative;}#sk-container-id-1 div.sk-item {position: relative;z-index: 1;}#sk-container-id-1 div.sk-parallel {display: flex;align-items: stretch;justify-content: center;background-color: white;position: relative;}#sk-container-id-1 div.sk-item::before, #sk-container-id-1 div.sk-parallel-item::before {content: \"\";position: absolute;border-left: 1px solid gray;box-sizing: border-box;top: 0;bottom: 0;left: 50%;z-index: -1;}#sk-container-id-1 div.sk-parallel-item {display: flex;flex-direction: column;z-index: 1;position: relative;background-color: white;}#sk-container-id-1 div.sk-parallel-item:first-child::after {align-self: flex-end;width: 50%;}#sk-container-id-1 div.sk-parallel-item:last-child::after {align-self: flex-start;width: 50%;}#sk-container-id-1 div.sk-parallel-item:only-child::after {width: 0;}#sk-container-id-1 div.sk-dashed-wrapped {border: 1px dashed gray;margin: 0 0.4em 0.5em 0.4em;box-sizing: border-box;padding-bottom: 0.4em;background-color: white;}#sk-container-id-1 div.sk-label label {font-family: monospace;font-weight: bold;display: inline-block;line-height: 1.2em;}#sk-container-id-1 div.sk-label-container {text-align: center;}#sk-container-id-1 div.sk-container {/* jupyter's `normalize.less` sets `[hidden] { display: none; }` but bootstrap.min.css set `[hidden] { display: none !important; }` so we also need the `!important` here to be able to override the default hidden behavior on the sphinx rendered scikit-learn.org. See: https://github.com/scikit-learn/scikit-learn/issues/21755 */display: inline-block !important;position: relative;}#sk-container-id-1 div.sk-text-repr-fallback {display: none;}</style><div id=\"sk-container-id-1\" class=\"sk-top-container\"><div class=\"sk-text-repr-fallback\"><pre>RandomForestRegressor(max_depth=8, n_estimators=10, random_state=100)</pre><b>In a Jupyter environment, please rerun this cell to show the HTML representation or trust the notebook. <br />On GitHub, the HTML representation is unable to render, please try loading this page with nbviewer.org.</b></div><div class=\"sk-container\" hidden><div class=\"sk-item\"><div class=\"sk-estimator sk-toggleable\"><input class=\"sk-toggleable__control sk-hidden--visually\" id=\"sk-estimator-id-1\" type=\"checkbox\" checked><label for=\"sk-estimator-id-1\" class=\"sk-toggleable__label sk-toggleable__label-arrow\">RandomForestRegressor</label><div class=\"sk-toggleable__content\"><pre>RandomForestRegressor(max_depth=8, n_estimators=10, random_state=100)</pre></div></div></div></div></div>"
      ],
      "text/plain": [
       "RandomForestRegressor(max_depth=8, n_estimators=10, random_state=100)"
      ]
     },
     "execution_count": 29,
     "metadata": {},
     "output_type": "execute_result"
    }
   ],
   "source": [
    "final = rfc\n",
    "\n",
    "final.fit(freq_flights_new, y)"
   ]
  },
  {
   "cell_type": "code",
   "execution_count": 30,
   "id": "ebfb138d",
   "metadata": {},
   "outputs": [],
   "source": [
    "predictions = final.predict(test_df[for_test])"
   ]
  },
  {
   "cell_type": "code",
   "execution_count": 31,
   "id": "22525e22",
   "metadata": {},
   "outputs": [
    {
     "name": "stderr",
     "output_type": "stream",
     "text": [
      "C:\\Users\\vanessa\\AppData\\Local\\Temp\\ipykernel_1748\\2235819650.py:3: SettingWithCopyWarning: \n",
      "A value is trying to be set on a copy of a slice from a DataFrame.\n",
      "Try using .loc[row_indexer,col_indexer] = value instead\n",
      "\n",
      "See the caveats in the documentation: https://pandas.pydata.org/pandas-docs/stable/user_guide/indexing.html#returning-a-view-versus-a-copy\n",
      "  submission_frame['predicted_delay'] = predictions\n"
     ]
    }
   ],
   "source": [
    "submission_frame = test_df[not_for_test]\n",
    "\n",
    "submission_frame['predicted_delay'] = predictions"
   ]
  },
  {
   "cell_type": "code",
   "execution_count": 32,
   "id": "e181ea87",
   "metadata": {},
   "outputs": [
    {
     "data": {
      "text/html": [
       "<div>\n",
       "<style scoped>\n",
       "    .dataframe tbody tr th:only-of-type {\n",
       "        vertical-align: middle;\n",
       "    }\n",
       "\n",
       "    .dataframe tbody tr th {\n",
       "        vertical-align: top;\n",
       "    }\n",
       "\n",
       "    .dataframe thead th {\n",
       "        text-align: right;\n",
       "    }\n",
       "</style>\n",
       "<table border=\"1\" class=\"dataframe\">\n",
       "  <thead>\n",
       "    <tr style=\"text-align: right;\">\n",
       "      <th></th>\n",
       "      <th>dest</th>\n",
       "      <th>dest_city_name</th>\n",
       "      <th>dup</th>\n",
       "      <th>fl_date</th>\n",
       "      <th>flights</th>\n",
       "      <th>mkt_carrier</th>\n",
       "      <th>mkt_carrier_fl_num</th>\n",
       "      <th>origin</th>\n",
       "      <th>origin_city_name</th>\n",
       "      <th>tail_num</th>\n",
       "      <th>predicted_delay</th>\n",
       "    </tr>\n",
       "  </thead>\n",
       "  <tbody>\n",
       "    <tr>\n",
       "      <th>0</th>\n",
       "      <td>SFO</td>\n",
       "      <td>San Francisco, CA</td>\n",
       "      <td>N</td>\n",
       "      <td>2020-01-01 00:00:00</td>\n",
       "      <td>1</td>\n",
       "      <td>WN</td>\n",
       "      <td>5888</td>\n",
       "      <td>ONT</td>\n",
       "      <td>Ontario, CA</td>\n",
       "      <td>N951WN</td>\n",
       "      <td>4.204898</td>\n",
       "    </tr>\n",
       "    <tr>\n",
       "      <th>1</th>\n",
       "      <td>SFO</td>\n",
       "      <td>San Francisco, CA</td>\n",
       "      <td>N</td>\n",
       "      <td>2020-01-01 00:00:00</td>\n",
       "      <td>1</td>\n",
       "      <td>WN</td>\n",
       "      <td>6276</td>\n",
       "      <td>ONT</td>\n",
       "      <td>Ontario, CA</td>\n",
       "      <td>N467WN</td>\n",
       "      <td>1.937917</td>\n",
       "    </tr>\n",
       "    <tr>\n",
       "      <th>2</th>\n",
       "      <td>SJC</td>\n",
       "      <td>San Jose, CA</td>\n",
       "      <td>N</td>\n",
       "      <td>2020-01-01 00:00:00</td>\n",
       "      <td>1</td>\n",
       "      <td>WN</td>\n",
       "      <td>4598</td>\n",
       "      <td>ONT</td>\n",
       "      <td>Ontario, CA</td>\n",
       "      <td>N7885A</td>\n",
       "      <td>3.344711</td>\n",
       "    </tr>\n",
       "    <tr>\n",
       "      <th>3</th>\n",
       "      <td>SJC</td>\n",
       "      <td>San Jose, CA</td>\n",
       "      <td>N</td>\n",
       "      <td>2020-01-01 00:00:00</td>\n",
       "      <td>1</td>\n",
       "      <td>WN</td>\n",
       "      <td>4761</td>\n",
       "      <td>ONT</td>\n",
       "      <td>Ontario, CA</td>\n",
       "      <td>N551WN</td>\n",
       "      <td>2.145457</td>\n",
       "    </tr>\n",
       "    <tr>\n",
       "      <th>4</th>\n",
       "      <td>SJC</td>\n",
       "      <td>San Jose, CA</td>\n",
       "      <td>N</td>\n",
       "      <td>2020-01-01 00:00:00</td>\n",
       "      <td>1</td>\n",
       "      <td>WN</td>\n",
       "      <td>5162</td>\n",
       "      <td>ONT</td>\n",
       "      <td>Ontario, CA</td>\n",
       "      <td>N968WN</td>\n",
       "      <td>-3.253428</td>\n",
       "    </tr>\n",
       "  </tbody>\n",
       "</table>\n",
       "</div>"
      ],
      "text/plain": [
       "  dest     dest_city_name dup              fl_date  flights mkt_carrier  \\\n",
       "0  SFO  San Francisco, CA   N  2020-01-01 00:00:00        1          WN   \n",
       "1  SFO  San Francisco, CA   N  2020-01-01 00:00:00        1          WN   \n",
       "2  SJC       San Jose, CA   N  2020-01-01 00:00:00        1          WN   \n",
       "3  SJC       San Jose, CA   N  2020-01-01 00:00:00        1          WN   \n",
       "4  SJC       San Jose, CA   N  2020-01-01 00:00:00        1          WN   \n",
       "\n",
       "   mkt_carrier_fl_num origin origin_city_name tail_num  predicted_delay  \n",
       "0                5888    ONT      Ontario, CA   N951WN         4.204898  \n",
       "1                6276    ONT      Ontario, CA   N467WN         1.937917  \n",
       "2                4598    ONT      Ontario, CA   N7885A         3.344711  \n",
       "3                4761    ONT      Ontario, CA   N551WN         2.145457  \n",
       "4                5162    ONT      Ontario, CA   N968WN        -3.253428  "
      ]
     },
     "execution_count": 32,
     "metadata": {},
     "output_type": "execute_result"
    }
   ],
   "source": [
    "submission_frame.head()"
   ]
  },
  {
   "cell_type": "code",
   "execution_count": 33,
   "id": "30a4c3cd",
   "metadata": {},
   "outputs": [
    {
     "name": "stderr",
     "output_type": "stream",
     "text": [
      "C:\\Users\\vanessa\\AppData\\Local\\Temp\\ipykernel_1748\\3301575235.py:2: SettingWithCopyWarning: \n",
      "A value is trying to be set on a copy of a slice from a DataFrame.\n",
      "Try using .loc[row_indexer,col_indexer] = value instead\n",
      "\n",
      "See the caveats in the documentation: https://pandas.pydata.org/pandas-docs/stable/user_guide/indexing.html#returning-a-view-versus-a-copy\n",
      "  submission_frame['fl_date'] =pd.to_datetime(submission_frame['fl_date'], format='%Y-%m-%d %H:%M:%S')\n"
     ]
    }
   ],
   "source": [
    "# reorganizing\n",
    "submission_frame['fl_date'] =pd.to_datetime(submission_frame['fl_date'], format='%Y-%m-%d %H:%M:%S')\n",
    "\n",
    "cols = ['fl_date', 'mkt_carrier', 'mkt_carrier_fl_num', 'origin', 'dest', 'predicted_delay']"
   ]
  },
  {
   "cell_type": "code",
   "execution_count": 34,
   "id": "8111e938",
   "metadata": {},
   "outputs": [],
   "source": [
    "submission_frame[cols].to_csv('submission.csv', index=False)"
   ]
  },
  {
   "cell_type": "code",
   "execution_count": null,
   "id": "dc6c8638",
   "metadata": {},
   "outputs": [],
   "source": []
  }
 ],
 "metadata": {
  "kernelspec": {
   "display_name": "test_env",
   "language": "python",
   "name": "test_env"
  },
  "language_info": {
   "codemirror_mode": {
    "name": "ipython",
    "version": 3
   },
   "file_extension": ".py",
   "mimetype": "text/x-python",
   "name": "python",
   "nbconvert_exporter": "python",
   "pygments_lexer": "ipython3",
   "version": "3.9.12"
  }
 },
 "nbformat": 4,
 "nbformat_minor": 5
}
