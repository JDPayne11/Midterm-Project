{
 "cells": [
  {
   "cell_type": "code",
   "execution_count": 1,
   "id": "6d1c344a",
   "metadata": {},
   "outputs": [],
   "source": [
    "import numpy as np\n",
    "import pandas as pd\n",
    "import matplotlib.pyplot as plt\n",
    "import seaborn as sns\n",
    "\n",
    "from project_functions import regression_metrics, scale_features\n",
    "\n",
    "from sklearn.preprocessing import StandardScaler\n",
    "from sklearn.model_selection import train_test_split\n",
    "from sklearn.linear_model import LinearRegression\n",
    "# from sklearn.linear_model import LogisticRegression\n",
    "from sklearn.ensemble import RandomForestRegressor\n",
    "from sklearn.naive_bayes import GaussianNB\n",
    "from sklearn import svm\n",
    "from sklearn import metrics\n",
    "from sklearn.metrics import (log_loss,\n",
    "                            roc_auc_score, \n",
    "                            recall_score, \n",
    "                            precision_score, \n",
    "                            average_precision_score, \n",
    "                            f1_score, classification_report, \n",
    "                            accuracy_score, plot_roc_curve, \n",
    "                            plot_precision_recall_curve, \n",
    "                            plot_confusion_matrix\n",
    "                        )"
   ]
  },
  {
   "cell_type": "code",
   "execution_count": 3,
   "id": "399fe297",
   "metadata": {
    "scrolled": true
   },
   "outputs": [],
   "source": [
    "freq_flights = pd.read_csv(\"Features_with_frequencies.csv\")"
   ]
  },
  {
   "cell_type": "code",
   "execution_count": 4,
   "id": "f91555aa",
   "metadata": {
    "scrolled": true
   },
   "outputs": [
    {
     "data": {
      "text/html": [
       "<div>\n",
       "<style scoped>\n",
       "    .dataframe tbody tr th:only-of-type {\n",
       "        vertical-align: middle;\n",
       "    }\n",
       "\n",
       "    .dataframe tbody tr th {\n",
       "        vertical-align: top;\n",
       "    }\n",
       "\n",
       "    .dataframe thead th {\n",
       "        text-align: right;\n",
       "    }\n",
       "</style>\n",
       "<table border=\"1\" class=\"dataframe\">\n",
       "  <thead>\n",
       "    <tr style=\"text-align: right;\">\n",
       "      <th></th>\n",
       "      <th>Unnamed: 0</th>\n",
       "      <th>fl_date</th>\n",
       "      <th>crs_dep_time</th>\n",
       "      <th>dep_time</th>\n",
       "      <th>dep_delay</th>\n",
       "      <th>taxi_out</th>\n",
       "      <th>wheels_off</th>\n",
       "      <th>wheels_on</th>\n",
       "      <th>taxi_in</th>\n",
       "      <th>crs_arr_time</th>\n",
       "      <th>...</th>\n",
       "      <th>destination_id_frequency</th>\n",
       "      <th>origin_id_frequency</th>\n",
       "      <th>mkt_frequency</th>\n",
       "      <th>branded_frequency</th>\n",
       "      <th>op_frequency</th>\n",
       "      <th>flight_num_frequency</th>\n",
       "      <th>Cloudy</th>\n",
       "      <th>Rainy</th>\n",
       "      <th>Snowy</th>\n",
       "      <th>Sunny</th>\n",
       "    </tr>\n",
       "  </thead>\n",
       "  <tbody>\n",
       "    <tr>\n",
       "      <th>0</th>\n",
       "      <td>0</td>\n",
       "      <td>2018-12-01</td>\n",
       "      <td>1229</td>\n",
       "      <td>1337.0</td>\n",
       "      <td>68.0</td>\n",
       "      <td>12.0</td>\n",
       "      <td>1349.0</td>\n",
       "      <td>1452.0</td>\n",
       "      <td>9.0</td>\n",
       "      <td>1355</td>\n",
       "      <td>...</td>\n",
       "      <td>0.037064</td>\n",
       "      <td>0.003389</td>\n",
       "      <td>0.269857</td>\n",
       "      <td>0.147168</td>\n",
       "      <td>0.030035</td>\n",
       "      <td>0.000132</td>\n",
       "      <td>0</td>\n",
       "      <td>1</td>\n",
       "      <td>0</td>\n",
       "      <td>0</td>\n",
       "    </tr>\n",
       "    <tr>\n",
       "      <th>1</th>\n",
       "      <td>1</td>\n",
       "      <td>2018-12-01</td>\n",
       "      <td>1945</td>\n",
       "      <td>1941.0</td>\n",
       "      <td>-4.0</td>\n",
       "      <td>15.0</td>\n",
       "      <td>1956.0</td>\n",
       "      <td>2209.0</td>\n",
       "      <td>6.0</td>\n",
       "      <td>2244</td>\n",
       "      <td>...</td>\n",
       "      <td>0.022009</td>\n",
       "      <td>0.019777</td>\n",
       "      <td>0.025626</td>\n",
       "      <td>0.025626</td>\n",
       "      <td>0.025626</td>\n",
       "      <td>0.000269</td>\n",
       "      <td>1</td>\n",
       "      <td>0</td>\n",
       "      <td>0</td>\n",
       "      <td>0</td>\n",
       "    </tr>\n",
       "    <tr>\n",
       "      <th>2</th>\n",
       "      <td>2</td>\n",
       "      <td>2018-12-01</td>\n",
       "      <td>1110</td>\n",
       "      <td>1107.0</td>\n",
       "      <td>-3.0</td>\n",
       "      <td>32.0</td>\n",
       "      <td>1139.0</td>\n",
       "      <td>1844.0</td>\n",
       "      <td>12.0</td>\n",
       "      <td>1855</td>\n",
       "      <td>...</td>\n",
       "      <td>0.019954</td>\n",
       "      <td>0.022224</td>\n",
       "      <td>0.025626</td>\n",
       "      <td>0.025626</td>\n",
       "      <td>0.025626</td>\n",
       "      <td>0.000380</td>\n",
       "      <td>0</td>\n",
       "      <td>0</td>\n",
       "      <td>0</td>\n",
       "      <td>1</td>\n",
       "    </tr>\n",
       "    <tr>\n",
       "      <th>3</th>\n",
       "      <td>3</td>\n",
       "      <td>2018-12-01</td>\n",
       "      <td>1739</td>\n",
       "      <td>1736.0</td>\n",
       "      <td>-3.0</td>\n",
       "      <td>11.0</td>\n",
       "      <td>1747.0</td>\n",
       "      <td>1911.0</td>\n",
       "      <td>4.0</td>\n",
       "      <td>1930</td>\n",
       "      <td>...</td>\n",
       "      <td>0.014786</td>\n",
       "      <td>0.048256</td>\n",
       "      <td>0.025626</td>\n",
       "      <td>0.025626</td>\n",
       "      <td>0.025626</td>\n",
       "      <td>0.000345</td>\n",
       "      <td>0</td>\n",
       "      <td>1</td>\n",
       "      <td>0</td>\n",
       "      <td>0</td>\n",
       "    </tr>\n",
       "    <tr>\n",
       "      <th>4</th>\n",
       "      <td>4</td>\n",
       "      <td>2018-12-01</td>\n",
       "      <td>930</td>\n",
       "      <td>926.0</td>\n",
       "      <td>-4.0</td>\n",
       "      <td>12.0</td>\n",
       "      <td>938.0</td>\n",
       "      <td>1607.0</td>\n",
       "      <td>7.0</td>\n",
       "      <td>1649</td>\n",
       "      <td>...</td>\n",
       "      <td>0.048839</td>\n",
       "      <td>0.030977</td>\n",
       "      <td>0.025626</td>\n",
       "      <td>0.025626</td>\n",
       "      <td>0.025626</td>\n",
       "      <td>0.000345</td>\n",
       "      <td>0</td>\n",
       "      <td>1</td>\n",
       "      <td>0</td>\n",
       "      <td>0</td>\n",
       "    </tr>\n",
       "  </tbody>\n",
       "</table>\n",
       "<p>5 rows × 27 columns</p>\n",
       "</div>"
      ],
      "text/plain": [
       "   Unnamed: 0     fl_date  crs_dep_time  dep_time  dep_delay  taxi_out  \\\n",
       "0           0  2018-12-01          1229    1337.0       68.0      12.0   \n",
       "1           1  2018-12-01          1945    1941.0       -4.0      15.0   \n",
       "2           2  2018-12-01          1110    1107.0       -3.0      32.0   \n",
       "3           3  2018-12-01          1739    1736.0       -3.0      11.0   \n",
       "4           4  2018-12-01           930     926.0       -4.0      12.0   \n",
       "\n",
       "   wheels_off  wheels_on  taxi_in  crs_arr_time  ...  \\\n",
       "0      1349.0     1452.0      9.0          1355  ...   \n",
       "1      1956.0     2209.0      6.0          2244  ...   \n",
       "2      1139.0     1844.0     12.0          1855  ...   \n",
       "3      1747.0     1911.0      4.0          1930  ...   \n",
       "4       938.0     1607.0      7.0          1649  ...   \n",
       "\n",
       "   destination_id_frequency  origin_id_frequency  mkt_frequency  \\\n",
       "0                  0.037064             0.003389       0.269857   \n",
       "1                  0.022009             0.019777       0.025626   \n",
       "2                  0.019954             0.022224       0.025626   \n",
       "3                  0.014786             0.048256       0.025626   \n",
       "4                  0.048839             0.030977       0.025626   \n",
       "\n",
       "   branded_frequency  op_frequency  flight_num_frequency  Cloudy  Rainy  \\\n",
       "0           0.147168      0.030035              0.000132       0      1   \n",
       "1           0.025626      0.025626              0.000269       1      0   \n",
       "2           0.025626      0.025626              0.000380       0      0   \n",
       "3           0.025626      0.025626              0.000345       0      1   \n",
       "4           0.025626      0.025626              0.000345       0      1   \n",
       "\n",
       "   Snowy  Sunny  \n",
       "0      0      0  \n",
       "1      0      0  \n",
       "2      0      1  \n",
       "3      0      0  \n",
       "4      0      0  \n",
       "\n",
       "[5 rows x 27 columns]"
      ]
     },
     "execution_count": 4,
     "metadata": {},
     "output_type": "execute_result"
    }
   ],
   "source": [
    "freq_flights.head()"
   ]
  },
  {
   "cell_type": "code",
   "execution_count": 5,
   "id": "d170fab7",
   "metadata": {},
   "outputs": [],
   "source": [
    "freq_flights.drop('Unnamed: 0', axis=1, inplace=True)"
   ]
  },
  {
   "cell_type": "code",
   "execution_count": 6,
   "id": "397b3ce9",
   "metadata": {},
   "outputs": [],
   "source": [
    "# not using fl_date\n",
    "freq_flights.drop(['dep_delay', 'fl_date'], axis=1, inplace=True)"
   ]
  },
  {
   "cell_type": "code",
   "execution_count": 7,
   "id": "8d8d61c8",
   "metadata": {},
   "outputs": [],
   "source": [
    "categoric = ['diverted', 'Cloudy', 'Rainy', 'Snowy', 'Sunny']\n",
    "numeric = list(set(freq_flights.columns) - set(categoric))"
   ]
  },
  {
   "cell_type": "code",
   "execution_count": 8,
   "id": "9dd36d60",
   "metadata": {},
   "outputs": [
    {
     "data": {
      "image/png": "[encoded data removed]",
      "text/plain": [
       "<Figure size 864x648 with 2 Axes>"
      ]
     },
     "metadata": {
      "needs_background": "light"
     },
     "output_type": "display_data"
    }
   ],
   "source": [
    "# check most correlated numeric variables with arr_delay\n",
    "corrmat = freq_flights[numeric].corr()\n",
    "f, ax = plt.subplots(figsize=(12, 9))\n",
    "sns.heatmap(corrmat, vmax=.8, square=True,cmap=\"RdYlGn_r\")\n",
    "\n",
    "plt.show()"
   ]
  },
  {
   "cell_type": "code",
   "execution_count": 9,
   "id": "a164d9b5",
   "metadata": {},
   "outputs": [],
   "source": [
    "numeric.remove('arr_delay')"
   ]
  },
  {
   "cell_type": "markdown",
   "id": "268c5905",
   "metadata": {},
   "source": [
    "# Modeling"
   ]
  },
  {
   "cell_type": "code",
   "execution_count": 10,
   "id": "2cc3fd05",
   "metadata": {},
   "outputs": [],
   "source": [
    "# separate target and predictors\n",
    "y = freq_flights['arr_delay']\n",
    "X = freq_flights.drop('arr_delay', axis=1)"
   ]
  },
  {
   "cell_type": "code",
   "execution_count": 11,
   "id": "fed4f1b0",
   "metadata": {},
   "outputs": [],
   "source": [
    "seed = 100\n",
    "\n",
    "X_train, X_test, y_train, y_test = train_test_split(X, y, test_size=0.3, random_state=seed)"
   ]
  },
  {
   "cell_type": "code",
   "execution_count": 12,
   "id": "e4198259",
   "metadata": {},
   "outputs": [],
   "source": [
    "scaler = StandardScaler()\n",
    "\n",
    "X_train_scaled, X_test_scaled = scale_features(X_train, X_test, numeric, categoric, scaler)"
   ]
  },
  {
   "cell_type": "markdown",
   "id": "16158094",
   "metadata": {},
   "source": [
    "#### Linear Regression"
   ]
  },
  {
   "cell_type": "code",
   "execution_count": 13,
   "id": "e826b637",
   "metadata": {},
   "outputs": [],
   "source": [
    "line_reg = LinearRegression()\n",
    "\n",
    "line_reg.fit(X_train_scaled, y_train)\n",
    "\n",
    "yhat_line = line_reg.predict(X_test_scaled)"
   ]
  },
  {
   "cell_type": "code",
   "execution_count": 14,
   "id": "20bae9ab",
   "metadata": {},
   "outputs": [
    {
     "name": "stdout",
     "output_type": "stream",
     "text": [
      "R^2: 0.18449823485414485\n",
      "Mean Squared Error: 1636.2911210033394\n",
      "Mean Absolute Error: 17.90655425889031\n",
      "Root MSE: 40.45109542402207\n"
     ]
    }
   ],
   "source": [
    "regression_metrics(y_test, yhat_line)"
   ]
  },
  {
   "cell_type": "markdown",
   "id": "877b4035",
   "metadata": {},
   "source": [
    "#### Random Forest"
   ]
  },
  {
   "cell_type": "code",
   "execution_count": 15,
   "id": "be67ce33",
   "metadata": {},
   "outputs": [],
   "source": [
    "rfc = RandomForestRegressor(n_estimators=10, max_depth=8, random_state=seed)\n",
    "\n",
    "rfc.fit(X_train_scaled, y_train)\n",
    "\n",
    "yhat_rfc = rfc.predict(X_test_scaled)"
   ]
  },
  {
   "cell_type": "code",
   "execution_count": 16,
   "id": "afc9f3a1",
   "metadata": {},
   "outputs": [
    {
     "name": "stdout",
     "output_type": "stream",
     "text": [
      "R^2: 0.6450420172076232\n",
      "Mean Squared Error: 712.2174597237587\n",
      "Mean Absolute Error: 16.06156833723872\n",
      "Root MSE: 26.687402641016952\n"
     ]
    }
   ],
   "source": [
    "regression_metrics(y_test, yhat_rfc)"
   ]
  },
  {
   "cell_type": "markdown",
   "id": "c720eb4b",
   "metadata": {},
   "source": [
    "#### Naive Bayes"
   ]
  },
  {
   "cell_type": "code",
   "execution_count": 17,
   "id": "220a4349",
   "metadata": {},
   "outputs": [],
   "source": [
    "gauss = GaussianNB()\n",
    "\n",
    "gauss.fit(X_train_scaled, y_train) \n",
    "\n",
    "yhat_nb = gauss.predict(X_test_scaled)"
   ]
  },
  {
   "cell_type": "code",
   "execution_count": 20,
   "id": "497b2886",
   "metadata": {},
   "outputs": [
    {
     "name": "stdout",
     "output_type": "stream",
     "text": [
      "R^2: -136.71416429426012\n",
      "Mean Squared Error: 276321.24650372774\n",
      "Mean Absolute Error: 489.6766931425031\n",
      "Root MSE: 525.6626736831594\n"
     ]
    }
   ],
   "source": [
    "regression_metrics(y_test, yhat_nb)"
   ]
  },
  {
   "cell_type": "code",
   "execution_count": null,
   "id": "26316f86",
   "metadata": {},
   "outputs": [],
   "source": []
  }
 ],
 "metadata": {
  "kernelspec": {
   "display_name": "test_env",
   "language": "python",
   "name": "test_env"
  },
  "language_info": {
   "codemirror_mode": {
    "name": "ipython",
    "version": 3
   },
   "file_extension": ".py",
   "mimetype": "text/x-python",
   "name": "python",
   "nbconvert_exporter": "python",
   "pygments_lexer": "ipython3",
   "version": "3.9.12"
  }
 },
 "nbformat": 4,
 "nbformat_minor": 5
}
