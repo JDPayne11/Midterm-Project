{
 "cells": [
  {
   "cell_type": "markdown",
   "id": "0d58126a",
   "metadata": {},
   "source": [
    "Based on the previous models' performance with binned features, additional features were engineered that grouped the arrivals and departures based on the time of day. The average monthly delays were also used."
   ]
  },
  {
   "cell_type": "code",
   "execution_count": 1,
   "id": "2cbdc984",
   "metadata": {},
   "outputs": [],
   "source": [
    "import numpy as np\n",
    "import pandas as pd\n",
    "import matplotlib.pyplot as plt\n",
    "import seaborn as sns\n",
    "\n",
    "from project_functions import regression_metrics, scale_features\n",
    "\n",
    "from sklearn.preprocessing import StandardScaler\n",
    "from sklearn.model_selection import train_test_split\n",
    "from sklearn.linear_model import LinearRegression\n",
    "from sklearn.ensemble import RandomForestRegressor\n",
    "from sklearn.naive_bayes import GaussianNB\n",
    "from sklearn import svm\n",
    "from sklearn import metrics"
   ]
  },
  {
   "cell_type": "code",
   "execution_count": 2,
   "id": "5d656fa0",
   "metadata": {},
   "outputs": [],
   "source": [
    "time_flies = pd.read_csv(\"Final_Features.csv\")"
   ]
  },
  {
   "cell_type": "code",
   "execution_count": 3,
   "id": "1a72bbdc",
   "metadata": {},
   "outputs": [
    {
     "data": {
      "text/html": [
       "<div>\n",
       "<style scoped>\n",
       "    .dataframe tbody tr th:only-of-type {\n",
       "        vertical-align: middle;\n",
       "    }\n",
       "\n",
       "    .dataframe tbody tr th {\n",
       "        vertical-align: top;\n",
       "    }\n",
       "\n",
       "    .dataframe thead th {\n",
       "        text-align: right;\n",
       "    }\n",
       "</style>\n",
       "<table border=\"1\" class=\"dataframe\">\n",
       "  <thead>\n",
       "    <tr style=\"text-align: right;\">\n",
       "      <th></th>\n",
       "      <th>Unnamed: 0</th>\n",
       "      <th>taxi_out</th>\n",
       "      <th>wheels_off</th>\n",
       "      <th>wheels_on</th>\n",
       "      <th>taxi_in</th>\n",
       "      <th>arr_delay</th>\n",
       "      <th>diverted</th>\n",
       "      <th>crs_elapsed_time</th>\n",
       "      <th>air_time</th>\n",
       "      <th>distance</th>\n",
       "      <th>...</th>\n",
       "      <th>Weather_Sunny</th>\n",
       "      <th>average_monthly_delay</th>\n",
       "      <th>time_of_departure_12am-6am</th>\n",
       "      <th>time_of_departure_6am-12pm</th>\n",
       "      <th>time_of_departure_12pm-6pm</th>\n",
       "      <th>time_of_departure_6pm-12am</th>\n",
       "      <th>time_of_arrival_12am-6am</th>\n",
       "      <th>time_of_arrival_6am-12pm</th>\n",
       "      <th>time_of_arrival_12pm-6pm</th>\n",
       "      <th>time_of_arrival_6pm-12am</th>\n",
       "    </tr>\n",
       "  </thead>\n",
       "  <tbody>\n",
       "    <tr>\n",
       "      <th>0</th>\n",
       "      <td>0</td>\n",
       "      <td>12.0</td>\n",
       "      <td>1349.0</td>\n",
       "      <td>1452.0</td>\n",
       "      <td>9.0</td>\n",
       "      <td>66.0</td>\n",
       "      <td>0</td>\n",
       "      <td>146</td>\n",
       "      <td>123.0</td>\n",
       "      <td>733</td>\n",
       "      <td>...</td>\n",
       "      <td>0</td>\n",
       "      <td>6.965167</td>\n",
       "      <td>0</td>\n",
       "      <td>0</td>\n",
       "      <td>1</td>\n",
       "      <td>0</td>\n",
       "      <td>0</td>\n",
       "      <td>0</td>\n",
       "      <td>1</td>\n",
       "      <td>0</td>\n",
       "    </tr>\n",
       "    <tr>\n",
       "      <th>1</th>\n",
       "      <td>1</td>\n",
       "      <td>15.0</td>\n",
       "      <td>1956.0</td>\n",
       "      <td>2209.0</td>\n",
       "      <td>6.0</td>\n",
       "      <td>-29.0</td>\n",
       "      <td>0</td>\n",
       "      <td>359</td>\n",
       "      <td>313.0</td>\n",
       "      <td>2176</td>\n",
       "      <td>...</td>\n",
       "      <td>0</td>\n",
       "      <td>6.965167</td>\n",
       "      <td>0</td>\n",
       "      <td>0</td>\n",
       "      <td>0</td>\n",
       "      <td>1</td>\n",
       "      <td>0</td>\n",
       "      <td>0</td>\n",
       "      <td>0</td>\n",
       "      <td>1</td>\n",
       "    </tr>\n",
       "    <tr>\n",
       "      <th>2</th>\n",
       "      <td>2</td>\n",
       "      <td>32.0</td>\n",
       "      <td>1139.0</td>\n",
       "      <td>1844.0</td>\n",
       "      <td>12.0</td>\n",
       "      <td>1.0</td>\n",
       "      <td>0</td>\n",
       "      <td>285</td>\n",
       "      <td>245.0</td>\n",
       "      <td>2176</td>\n",
       "      <td>...</td>\n",
       "      <td>1</td>\n",
       "      <td>6.965167</td>\n",
       "      <td>0</td>\n",
       "      <td>1</td>\n",
       "      <td>0</td>\n",
       "      <td>0</td>\n",
       "      <td>0</td>\n",
       "      <td>0</td>\n",
       "      <td>0</td>\n",
       "      <td>1</td>\n",
       "    </tr>\n",
       "    <tr>\n",
       "      <th>3</th>\n",
       "      <td>3</td>\n",
       "      <td>11.0</td>\n",
       "      <td>1747.0</td>\n",
       "      <td>1911.0</td>\n",
       "      <td>4.0</td>\n",
       "      <td>-15.0</td>\n",
       "      <td>0</td>\n",
       "      <td>111</td>\n",
       "      <td>84.0</td>\n",
       "      <td>581</td>\n",
       "      <td>...</td>\n",
       "      <td>0</td>\n",
       "      <td>6.965167</td>\n",
       "      <td>0</td>\n",
       "      <td>0</td>\n",
       "      <td>1</td>\n",
       "      <td>0</td>\n",
       "      <td>0</td>\n",
       "      <td>0</td>\n",
       "      <td>0</td>\n",
       "      <td>1</td>\n",
       "    </tr>\n",
       "    <tr>\n",
       "      <th>4</th>\n",
       "      <td>4</td>\n",
       "      <td>12.0</td>\n",
       "      <td>938.0</td>\n",
       "      <td>1607.0</td>\n",
       "      <td>7.0</td>\n",
       "      <td>-35.0</td>\n",
       "      <td>0</td>\n",
       "      <td>259</td>\n",
       "      <td>209.0</td>\n",
       "      <td>1947</td>\n",
       "      <td>...</td>\n",
       "      <td>0</td>\n",
       "      <td>6.965167</td>\n",
       "      <td>0</td>\n",
       "      <td>1</td>\n",
       "      <td>0</td>\n",
       "      <td>0</td>\n",
       "      <td>0</td>\n",
       "      <td>0</td>\n",
       "      <td>1</td>\n",
       "      <td>0</td>\n",
       "    </tr>\n",
       "  </tbody>\n",
       "</table>\n",
       "<p>5 rows × 50 columns</p>\n",
       "</div>"
      ],
      "text/plain": [
       "   Unnamed: 0  taxi_out  wheels_off  wheels_on  taxi_in  arr_delay  diverted  \\\n",
       "0           0      12.0      1349.0     1452.0      9.0       66.0         0   \n",
       "1           1      15.0      1956.0     2209.0      6.0      -29.0         0   \n",
       "2           2      32.0      1139.0     1844.0     12.0        1.0         0   \n",
       "3           3      11.0      1747.0     1911.0      4.0      -15.0         0   \n",
       "4           4      12.0       938.0     1607.0      7.0      -35.0         0   \n",
       "\n",
       "   crs_elapsed_time  air_time  distance  ...  Weather_Sunny  \\\n",
       "0               146     123.0       733  ...              0   \n",
       "1               359     313.0      2176  ...              0   \n",
       "2               285     245.0      2176  ...              1   \n",
       "3               111      84.0       581  ...              0   \n",
       "4               259     209.0      1947  ...              0   \n",
       "\n",
       "   average_monthly_delay  time_of_departure_12am-6am  \\\n",
       "0               6.965167                           0   \n",
       "1               6.965167                           0   \n",
       "2               6.965167                           0   \n",
       "3               6.965167                           0   \n",
       "4               6.965167                           0   \n",
       "\n",
       "   time_of_departure_6am-12pm  time_of_departure_12pm-6pm  \\\n",
       "0                           0                           1   \n",
       "1                           0                           0   \n",
       "2                           1                           0   \n",
       "3                           0                           1   \n",
       "4                           1                           0   \n",
       "\n",
       "   time_of_departure_6pm-12am  time_of_arrival_12am-6am  \\\n",
       "0                           0                         0   \n",
       "1                           1                         0   \n",
       "2                           0                         0   \n",
       "3                           0                         0   \n",
       "4                           0                         0   \n",
       "\n",
       "   time_of_arrival_6am-12pm  time_of_arrival_12pm-6pm  \\\n",
       "0                         0                         1   \n",
       "1                         0                         0   \n",
       "2                         0                         0   \n",
       "3                         0                         0   \n",
       "4                         0                         1   \n",
       "\n",
       "   time_of_arrival_6pm-12am  \n",
       "0                         0  \n",
       "1                         1  \n",
       "2                         1  \n",
       "3                         1  \n",
       "4                         0  \n",
       "\n",
       "[5 rows x 50 columns]"
      ]
     },
     "execution_count": 3,
     "metadata": {},
     "output_type": "execute_result"
    }
   ],
   "source": [
    "time_flies.head()"
   ]
  },
  {
   "cell_type": "code",
   "execution_count": 4,
   "id": "d9ea60a9",
   "metadata": {},
   "outputs": [],
   "source": [
    "time_flies.drop('Unnamed: 0', axis=1, inplace=True)"
   ]
  },
  {
   "cell_type": "code",
   "execution_count": 19,
   "id": "479b8097",
   "metadata": {},
   "outputs": [],
   "source": [
    "# time_flies.columns.tolist()"
   ]
  },
  {
   "cell_type": "code",
   "execution_count": 6,
   "id": "11920545",
   "metadata": {},
   "outputs": [],
   "source": [
    "numeric = ['taxi_out',\n",
    "         'wheels_off',\n",
    "         'wheels_on',\n",
    "         'taxi_in',\n",
    "         'arr_delay',\n",
    "         'crs_elapsed_time',\n",
    "         'air_time',\n",
    "         'distance',\n",
    "         'average_monthly_delay']\n",
    "\n",
    "categoric = list(set(time_flies.columns) - set(numeric))"
   ]
  },
  {
   "cell_type": "markdown",
   "id": "3b96ac62",
   "metadata": {},
   "source": [
    "#### Correlation Matrix"
   ]
  },
  {
   "cell_type": "code",
   "execution_count": 7,
   "id": "8e60ce4f",
   "metadata": {},
   "outputs": [
    {
     "data": {
      "image/png": "[encoded data removed]",
      "text/plain": [
       "<Figure size 864x648 with 2 Axes>"
      ]
     },
     "metadata": {
      "needs_background": "light"
     },
     "output_type": "display_data"
    }
   ],
   "source": [
    "corrmat = time_flies[numeric].corr()\n",
    "f, ax = plt.subplots(figsize=(12, 9))\n",
    "sns.heatmap(corrmat, vmax=.8, square=True,cmap=\"RdYlGn_r\")\n",
    "\n",
    "plt.show()"
   ]
  },
  {
   "cell_type": "code",
   "execution_count": 8,
   "id": "e69504bc",
   "metadata": {},
   "outputs": [
    {
     "data": {
      "image/png": "[encoded data removed]",
      "text/plain": [
       "<Figure size 864x648 with 2 Axes>"
      ]
     },
     "metadata": {
      "needs_background": "light"
     },
     "output_type": "display_data"
    }
   ],
   "source": [
    "# numerical feature correlation with arrival delay\n",
    "corrmat = time_flies[numeric].corr()\n",
    "\n",
    "high_corr = corrmat.index[abs(corrmat['arr_delay'])>0.5]\n",
    "plt.figure(figsize=(12,9))\n",
    "sns.heatmap(corrmat[high_corr], annot=True, cmap='RdYlGn_r')\n",
    "\n",
    "plt.show()"
   ]
  },
  {
   "cell_type": "markdown",
   "id": "8a09eff6",
   "metadata": {},
   "source": [
    "Average monthly delay has a weak relationship with arrival delay."
   ]
  },
  {
   "cell_type": "code",
   "execution_count": 9,
   "id": "77a22a37",
   "metadata": {},
   "outputs": [],
   "source": [
    "numeric.remove('arr_delay')"
   ]
  },
  {
   "cell_type": "markdown",
   "id": "22fbcd72",
   "metadata": {},
   "source": [
    "# Modeling"
   ]
  },
  {
   "cell_type": "code",
   "execution_count": 10,
   "id": "1d9b3ca6",
   "metadata": {},
   "outputs": [],
   "source": [
    "# assign target and predictors\n",
    "y = time_flies['arr_delay']\n",
    "X = time_flies.drop('arr_delay', axis=1)"
   ]
  },
  {
   "cell_type": "code",
   "execution_count": 11,
   "id": "7aa9d117",
   "metadata": {},
   "outputs": [],
   "source": [
    "seed = 100\n",
    "\n",
    "X_train, X_test, y_train, y_test = train_test_split(X, y, test_size=0.3, random_state=seed)"
   ]
  },
  {
   "cell_type": "code",
   "execution_count": 12,
   "id": "ddc27597",
   "metadata": {},
   "outputs": [],
   "source": [
    "scaler = StandardScaler()\n",
    "\n",
    "X_train_scaled, X_test_scaled = scale_features(X_train, X_test, numeric, categoric, scaler)"
   ]
  },
  {
   "cell_type": "markdown",
   "id": "ec8fc52f",
   "metadata": {},
   "source": [
    "#### Linear Regression"
   ]
  },
  {
   "cell_type": "code",
   "execution_count": 13,
   "id": "7925d0fa",
   "metadata": {},
   "outputs": [],
   "source": [
    "line_reg = LinearRegression()\n",
    "\n",
    "line_reg.fit(X_train_scaled, y_train)\n",
    "\n",
    "yhat_line = line_reg.predict(X_test_scaled)"
   ]
  },
  {
   "cell_type": "code",
   "execution_count": 14,
   "id": "a16fb349",
   "metadata": {},
   "outputs": [
    {
     "name": "stdout",
     "output_type": "stream",
     "text": [
      "R^2: 0.14532445755603385\n",
      "Mean Squared Error: 1714.892672475882\n",
      "Mean Absolute Error: 19.599265759982387\n",
      "Root MSE: 41.41126262837058\n"
     ]
    }
   ],
   "source": [
    "regression_metrics(y_test, yhat_line)"
   ]
  },
  {
   "cell_type": "markdown",
   "id": "4955c1ca",
   "metadata": {},
   "source": [
    "#### Random Forest"
   ]
  },
  {
   "cell_type": "code",
   "execution_count": 15,
   "id": "1f9d25ec",
   "metadata": {},
   "outputs": [],
   "source": [
    "rfc = RandomForestRegressor(n_estimators=10, max_depth=8, random_state=seed)\n",
    "\n",
    "rfc.fit(X_train_scaled, y_train)\n",
    "\n",
    "yhat_rfc = rfc.predict(X_test_scaled)"
   ]
  },
  {
   "cell_type": "code",
   "execution_count": 16,
   "id": "b2f9b7f2",
   "metadata": {},
   "outputs": [
    {
     "name": "stdout",
     "output_type": "stream",
     "text": [
      "R^2: 0.572436399335253\n",
      "Mean Squared Error: 857.899459367588\n",
      "Mean Absolute Error: 17.36216652593043\n",
      "Root MSE: 29.28992078117638\n"
     ]
    }
   ],
   "source": [
    "regression_metrics(y_test, yhat_rfc)"
   ]
  },
  {
   "cell_type": "markdown",
   "id": "a061a125",
   "metadata": {},
   "source": [
    "#### Naive Bayes"
   ]
  },
  {
   "cell_type": "code",
   "execution_count": 17,
   "id": "63fa2f2a",
   "metadata": {},
   "outputs": [],
   "source": [
    "gauss = GaussianNB()\n",
    "\n",
    "gauss.fit(X_train_scaled, y_train) \n",
    "\n",
    "yhat_nb = gauss.predict(X_test_scaled)"
   ]
  },
  {
   "cell_type": "code",
   "execution_count": 18,
   "id": "0521a63a",
   "metadata": {
    "scrolled": true
   },
   "outputs": [
    {
     "name": "stdout",
     "output_type": "stream",
     "text": [
      "R^2: -90.97440001842229\n",
      "Mean Squared Error: 184545.14820435355\n",
      "Mean Absolute Error: 402.8366062664894\n",
      "Root MSE: 429.5871834731031\n"
     ]
    }
   ],
   "source": [
    "regression_metrics(y_test, yhat_nb)"
   ]
  },
  {
   "cell_type": "markdown",
   "id": "df0b8135",
   "metadata": {},
   "source": [
    "Based on the metrics, our models did not improve. The value of R-squared went down and the mean errors increased. The average distance between the true and predicted values for arrival delay has increased."
   ]
  },
  {
   "cell_type": "code",
   "execution_count": null,
   "id": "5e070974",
   "metadata": {},
   "outputs": [],
   "source": []
  }
 ],
 "metadata": {
  "kernelspec": {
   "display_name": "test_env",
   "language": "python",
   "name": "test_env"
  },
  "language_info": {
   "codemirror_mode": {
    "name": "ipython",
    "version": 3
   },
   "file_extension": ".py",
   "mimetype": "text/x-python",
   "name": "python",
   "nbconvert_exporter": "python",
   "pygments_lexer": "ipython3",
   "version": "3.9.12"
  }
 },
 "nbformat": 4,
 "nbformat_minor": 5
}
